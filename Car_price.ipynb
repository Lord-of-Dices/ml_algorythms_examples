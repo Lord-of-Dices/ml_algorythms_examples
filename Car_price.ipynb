{
 "cells": [
  {
   "cell_type": "code",
   "execution_count": 1,
   "id": "detailed-lying",
   "metadata": {
    "executionInfo": {
     "elapsed": 1827,
     "status": "ok",
     "timestamp": 1680964850649,
     "user": {
      "displayName": "Artem Rakhlevskii",
      "userId": "03344283083967930388"
     },
     "user_tz": -180
    },
    "id": "detailed-lying",
    "tags": []
   },
   "outputs": [],
   "source": [
    "import numpy as np\n",
    "import pandas as pd\n",
    "import matplotlib.pyplot as plt\n",
    "import seaborn as sns\n",
    "import scipy.stats\n",
    "import plotly.express as px\n",
    "\n",
    "sns.set_palette('muted')\n",
    "sns.set_color_codes('muted')\n",
    "sns.set_style('white')\n",
    "\n",
    "import warnings\n",
    "warnings.filterwarnings('ignore')"
   ]
  },
  {
   "cell_type": "markdown",
   "id": "75f8372d-fd1a-42fa-83cb-c0779765accc",
   "metadata": {
    "id": "75f8372d-fd1a-42fa-83cb-c0779765accc",
    "pycharm": {
     "name": "#%% md\n"
    },
    "tags": []
   },
   "source": [
    "Use the line below if you have high DPI screen and don't want Matplotlib plots to be blurry."
   ]
  },
  {
   "cell_type": "code",
   "execution_count": 2,
   "id": "medieval-coating",
   "metadata": {
    "executionInfo": {
     "elapsed": 5,
     "status": "ok",
     "timestamp": 1680964852488,
     "user": {
      "displayName": "Artem Rakhlevskii",
      "userId": "03344283083967930388"
     },
     "user_tz": -180
    },
    "id": "medieval-coating"
   },
   "outputs": [],
   "source": [
    "%config InlineBackend.figure_format = 'retina'"
   ]
  },
  {
   "cell_type": "markdown",
   "id": "67f3779b-182b-4165-b169-36bc988d25ff",
   "metadata": {
    "id": "67f3779b-182b-4165-b169-36bc988d25ff",
    "pycharm": {
     "name": "#%% md\n"
    }
   },
   "source": [
    "# Business task"
   ]
  },
  {
   "cell_type": "markdown",
   "id": "heated-stock",
   "metadata": {
    "id": "heated-stock"
   },
   "source": [
    "# Dataset\n",
    "The dataset is already collected:"
   ]
  },
  {
   "cell_type": "code",
   "execution_count": 3,
   "id": "neutral-detective",
   "metadata": {
    "executionInfo": {
     "elapsed": 1031,
     "status": "ok",
     "timestamp": 1680973026357,
     "user": {
      "displayName": "Artem Rakhlevskii",
      "userId": "03344283083967930388"
     },
     "user_tz": -180
    },
    "id": "neutral-detective",
    "pycharm": {
     "name": "#%%\n"
    }
   },
   "outputs": [],
   "source": [
    "df = pd.read_csv('car_train.csv')\n",
    "test = pd.read_csv('car_test.csv')"
   ]
  },
  {
   "cell_type": "code",
   "execution_count": 4,
   "id": "cosmetic-preservation",
   "metadata": {
    "executionInfo": {
     "elapsed": 380,
     "status": "ok",
     "timestamp": 1680973040926,
     "user": {
      "displayName": "Artem Rakhlevskii",
      "userId": "03344283083967930388"
     },
     "user_tz": -180
    },
    "id": "cosmetic-preservation",
    "pycharm": {
     "name": "#%%\n"
    }
   },
   "outputs": [],
   "source": [
    "df['sample'] = 'train'\n",
    "test['sample'] = 'test'"
   ]
  },
  {
   "cell_type": "code",
   "execution_count": 5,
   "id": "c9xCSrLMh_p0",
   "metadata": {
    "executionInfo": {
     "elapsed": 3,
     "status": "ok",
     "timestamp": 1680973042717,
     "user": {
      "displayName": "Artem Rakhlevskii",
      "userId": "03344283083967930388"
     },
     "user_tz": -180
    },
    "id": "c9xCSrLMh_p0"
   },
   "outputs": [],
   "source": [
    "# тестовые буду обрабатыать вместе с тренировочными, потом выделю обратно\n",
    "train = pd.concat([df, test], axis=0, ignore_index=True)"
   ]
  },
  {
   "cell_type": "code",
   "execution_count": 6,
   "id": "yNe3QaGpihar",
   "metadata": {
    "colab": {
     "base_uri": "https://localhost:8080/",
     "height": 424
    },
    "executionInfo": {
     "elapsed": 10,
     "status": "ok",
     "timestamp": 1680973053138,
     "user": {
      "displayName": "Artem Rakhlevskii",
      "userId": "03344283083967930388"
     },
     "user_tz": -180
    },
    "id": "yNe3QaGpihar",
    "outputId": "f39ef765-ff8a-4556-94b8-3b0fd754c655"
   },
   "outputs": [
    {
     "data": {
      "text/html": [
       "<div>\n",
       "<style scoped>\n",
       "    .dataframe tbody tr th:only-of-type {\n",
       "        vertical-align: middle;\n",
       "    }\n",
       "\n",
       "    .dataframe tbody tr th {\n",
       "        vertical-align: top;\n",
       "    }\n",
       "\n",
       "    .dataframe thead th {\n",
       "        text-align: right;\n",
       "    }\n",
       "</style>\n",
       "<table border=\"1\" class=\"dataframe\">\n",
       "  <thead>\n",
       "    <tr style=\"text-align: right;\">\n",
       "      <th></th>\n",
       "      <th>id</th>\n",
       "      <th>brand</th>\n",
       "      <th>model</th>\n",
       "      <th>year</th>\n",
       "      <th>transmission</th>\n",
       "      <th>mileage</th>\n",
       "      <th>fuelType</th>\n",
       "      <th>tax</th>\n",
       "      <th>mpg</th>\n",
       "      <th>engineSize</th>\n",
       "      <th>tax(£)</th>\n",
       "      <th>price</th>\n",
       "      <th>sample</th>\n",
       "    </tr>\n",
       "  </thead>\n",
       "  <tbody>\n",
       "    <tr>\n",
       "      <th>0</th>\n",
       "      <td>0</td>\n",
       "      <td>vauxhall</td>\n",
       "      <td>Astra</td>\n",
       "      <td>2017.0</td>\n",
       "      <td>Manual</td>\n",
       "      <td>19000 km</td>\n",
       "      <td>Diesel</td>\n",
       "      <td>20.0</td>\n",
       "      <td>72.4</td>\n",
       "      <td>1.6</td>\n",
       "      <td>NaN</td>\n",
       "      <td>10095.0</td>\n",
       "      <td>train</td>\n",
       "    </tr>\n",
       "    <tr>\n",
       "      <th>1</th>\n",
       "      <td>1</td>\n",
       "      <td>ford</td>\n",
       "      <td>Focus</td>\n",
       "      <td>2017.0</td>\n",
       "      <td>Manual</td>\n",
       "      <td>26973 km</td>\n",
       "      <td>Petrol</td>\n",
       "      <td>145.0</td>\n",
       "      <td>57.7</td>\n",
       "      <td>1.0</td>\n",
       "      <td>NaN</td>\n",
       "      <td>11999.0</td>\n",
       "      <td>train</td>\n",
       "    </tr>\n",
       "    <tr>\n",
       "      <th>2</th>\n",
       "      <td>2</td>\n",
       "      <td>Mercedes-Benz</td>\n",
       "      <td>A Class</td>\n",
       "      <td>2019.0</td>\n",
       "      <td>Manual</td>\n",
       "      <td>2078 km</td>\n",
       "      <td>Petrol</td>\n",
       "      <td>145.0</td>\n",
       "      <td>47.1</td>\n",
       "      <td>1.3</td>\n",
       "      <td>NaN</td>\n",
       "      <td>23299.0</td>\n",
       "      <td>train</td>\n",
       "    </tr>\n",
       "    <tr>\n",
       "      <th>3</th>\n",
       "      <td>3</td>\n",
       "      <td>toyota</td>\n",
       "      <td>Aygo</td>\n",
       "      <td>2016.0</td>\n",
       "      <td>Manual</td>\n",
       "      <td>20169 km</td>\n",
       "      <td>Petrol</td>\n",
       "      <td>0.0</td>\n",
       "      <td>69.0</td>\n",
       "      <td>1.0</td>\n",
       "      <td>NaN</td>\n",
       "      <td>6698.0</td>\n",
       "      <td>train</td>\n",
       "    </tr>\n",
       "    <tr>\n",
       "      <th>4</th>\n",
       "      <td>4</td>\n",
       "      <td>bmw</td>\n",
       "      <td>4 Series</td>\n",
       "      <td>2016.0</td>\n",
       "      <td>Manual</td>\n",
       "      <td>97706 km</td>\n",
       "      <td>Diesel</td>\n",
       "      <td>30.0</td>\n",
       "      <td>62.8</td>\n",
       "      <td>2.0</td>\n",
       "      <td>NaN</td>\n",
       "      <td>11250.0</td>\n",
       "      <td>train</td>\n",
       "    </tr>\n",
       "    <tr>\n",
       "      <th>...</th>\n",
       "      <td>...</td>\n",
       "      <td>...</td>\n",
       "      <td>...</td>\n",
       "      <td>...</td>\n",
       "      <td>...</td>\n",
       "      <td>...</td>\n",
       "      <td>...</td>\n",
       "      <td>...</td>\n",
       "      <td>...</td>\n",
       "      <td>...</td>\n",
       "      <td>...</td>\n",
       "      <td>...</td>\n",
       "      <td>...</td>\n",
       "    </tr>\n",
       "    <tr>\n",
       "      <th>108521</th>\n",
       "      <td>9573</td>\n",
       "      <td>ford</td>\n",
       "      <td>Mondeo</td>\n",
       "      <td>2016.0</td>\n",
       "      <td>Semi-Auto</td>\n",
       "      <td>59601 km</td>\n",
       "      <td>Diesel</td>\n",
       "      <td>125.0</td>\n",
       "      <td>57.7</td>\n",
       "      <td>2.0</td>\n",
       "      <td>NaN</td>\n",
       "      <td>NaN</td>\n",
       "      <td>test</td>\n",
       "    </tr>\n",
       "    <tr>\n",
       "      <th>108522</th>\n",
       "      <td>9574</td>\n",
       "      <td>audi</td>\n",
       "      <td>A3</td>\n",
       "      <td>2015.0</td>\n",
       "      <td>Manual</td>\n",
       "      <td>89060 km</td>\n",
       "      <td>Diesel</td>\n",
       "      <td>30.0</td>\n",
       "      <td>67.3</td>\n",
       "      <td>2.0</td>\n",
       "      <td>NaN</td>\n",
       "      <td>NaN</td>\n",
       "      <td>test</td>\n",
       "    </tr>\n",
       "    <tr>\n",
       "      <th>108523</th>\n",
       "      <td>9575</td>\n",
       "      <td>vw</td>\n",
       "      <td>Polo</td>\n",
       "      <td>2019.0</td>\n",
       "      <td>Manual</td>\n",
       "      <td>1267 km</td>\n",
       "      <td>Petrol</td>\n",
       "      <td>150.0</td>\n",
       "      <td>49.6</td>\n",
       "      <td>1.0</td>\n",
       "      <td>NaN</td>\n",
       "      <td>NaN</td>\n",
       "      <td>test</td>\n",
       "    </tr>\n",
       "    <tr>\n",
       "      <th>108524</th>\n",
       "      <td>9576</td>\n",
       "      <td>vw</td>\n",
       "      <td>Golf</td>\n",
       "      <td>2019.0</td>\n",
       "      <td>Semi-Auto</td>\n",
       "      <td>1658 km</td>\n",
       "      <td>Petrol</td>\n",
       "      <td>145.0</td>\n",
       "      <td>36.2</td>\n",
       "      <td>2.0</td>\n",
       "      <td>NaN</td>\n",
       "      <td>NaN</td>\n",
       "      <td>test</td>\n",
       "    </tr>\n",
       "    <tr>\n",
       "      <th>108525</th>\n",
       "      <td>9577</td>\n",
       "      <td>Hyundai</td>\n",
       "      <td>Kona</td>\n",
       "      <td>2018.0</td>\n",
       "      <td>Manual</td>\n",
       "      <td>15493 km</td>\n",
       "      <td>Petrol</td>\n",
       "      <td>NaN</td>\n",
       "      <td>52.3</td>\n",
       "      <td>1.0</td>\n",
       "      <td>145.0</td>\n",
       "      <td>NaN</td>\n",
       "      <td>test</td>\n",
       "    </tr>\n",
       "  </tbody>\n",
       "</table>\n",
       "<p>108526 rows × 13 columns</p>\n",
       "</div>"
      ],
      "text/plain": [
       "          id          brand      model    year transmission   mileage  \\\n",
       "0          0       vauxhall      Astra  2017.0       Manual  19000 km   \n",
       "1          1           ford      Focus  2017.0       Manual  26973 km   \n",
       "2          2  Mercedes-Benz    A Class  2019.0       Manual   2078 km   \n",
       "3          3         toyota       Aygo  2016.0       Manual  20169 km   \n",
       "4          4            bmw   4 Series  2016.0       Manual  97706 km   \n",
       "...      ...            ...        ...     ...          ...       ...   \n",
       "108521  9573           ford     Mondeo  2016.0    Semi-Auto  59601 km   \n",
       "108522  9574           audi         A3  2015.0       Manual  89060 km   \n",
       "108523  9575             vw       Polo  2019.0       Manual   1267 km   \n",
       "108524  9576             vw       Golf  2019.0    Semi-Auto   1658 km   \n",
       "108525  9577        Hyundai       Kona  2018.0       Manual  15493 km   \n",
       "\n",
       "       fuelType    tax   mpg  engineSize  tax(£)    price sample  \n",
       "0        Diesel   20.0  72.4         1.6     NaN  10095.0  train  \n",
       "1        Petrol  145.0  57.7         1.0     NaN  11999.0  train  \n",
       "2        Petrol  145.0  47.1         1.3     NaN  23299.0  train  \n",
       "3        Petrol    0.0  69.0         1.0     NaN   6698.0  train  \n",
       "4        Diesel   30.0  62.8         2.0     NaN  11250.0  train  \n",
       "...         ...    ...   ...         ...     ...      ...    ...  \n",
       "108521   Diesel  125.0  57.7         2.0     NaN      NaN   test  \n",
       "108522   Diesel   30.0  67.3         2.0     NaN      NaN   test  \n",
       "108523   Petrol  150.0  49.6         1.0     NaN      NaN   test  \n",
       "108524   Petrol  145.0  36.2         2.0     NaN      NaN   test  \n",
       "108525   Petrol    NaN  52.3         1.0   145.0      NaN   test  \n",
       "\n",
       "[108526 rows x 13 columns]"
      ]
     },
     "execution_count": 6,
     "metadata": {},
     "output_type": "execute_result"
    }
   ],
   "source": [
    "train"
   ]
  },
  {
   "cell_type": "markdown",
   "id": "f9c854e1-5586-425d-8c30-867ae8634922",
   "metadata": {
    "id": "f9c854e1-5586-425d-8c30-867ae8634922",
    "pycharm": {
     "name": "#%% md\n"
    }
   },
   "source": [
    "\\>100K used cars postings from the British used cars site.\n",
    "\n",
    "- **brand** : car manufacturer\n",
    "- **model** : car model\n",
    "- **year** : registration year\n",
    "- **transmission** : type of gearbox (Manual, Semi-Auto, Automatic, Other)\n",
    "- **mileage** : distance used, miles\n",
    "- **fuelType** : engine fuel type (Diesel, Petrol, Hybrid, Electric, Other)\n",
    "- **tax** : road tax\n",
    "- **mpg** : miles per gallon (how many miles car can cover using 1 gallon of fuel; more miles -- less money spent on fuel)\n",
    "- **engineSize** : engine size (volume) in litres\n",
    "- **tax(£)** : road tax, £\n",
    "- **price** : car price, £"
   ]
  },
  {
   "cell_type": "markdown",
   "id": "occupied-disability",
   "metadata": {
    "id": "occupied-disability",
    "pycharm": {
     "name": "#%% md\n"
    }
   },
   "source": [
    "# Solution"
   ]
  },
  {
   "cell_type": "markdown",
   "id": "fixed-country",
   "metadata": {
    "id": "fixed-country"
   },
   "source": [
    "### Prep"
   ]
  },
  {
   "cell_type": "code",
   "execution_count": 7,
   "id": "dgnxOMiF3TQz",
   "metadata": {
    "colab": {
     "base_uri": "https://localhost:8080/"
    },
    "executionInfo": {
     "elapsed": 732,
     "status": "ok",
     "timestamp": 1680973067357,
     "user": {
      "displayName": "Artem Rakhlevskii",
      "userId": "03344283083967930388"
     },
     "user_tz": -180
    },
    "id": "dgnxOMiF3TQz",
    "outputId": "6a0dd7d1-cbe6-438b-8c59-b81c2338dc06"
   },
   "outputs": [
    {
     "name": "stdout",
     "output_type": "stream",
     "text": [
      "<class 'pandas.core.frame.DataFrame'>\n",
      "RangeIndex: 108526 entries, 0 to 108525\n",
      "Data columns (total 13 columns):\n",
      " #   Column        Non-Null Count   Dtype  \n",
      "---  ------        --------------   -----  \n",
      " 0   id            108526 non-null  int64  \n",
      " 1   brand         108526 non-null  object \n",
      " 2   model         108526 non-null  object \n",
      " 3   year          108517 non-null  float64\n",
      " 4   transmission  108526 non-null  object \n",
      " 5   mileage       108526 non-null  object \n",
      " 6   fuelType      108526 non-null  object \n",
      " 7   tax           94312 non-null   float64\n",
      " 8   mpg           99171 non-null   float64\n",
      " 9   engineSize    108526 non-null  float64\n",
      " 10  tax(£)        4859 non-null    float64\n",
      " 11  price         98948 non-null   float64\n",
      " 12  sample        108526 non-null  object \n",
      "dtypes: float64(6), int64(1), object(6)\n",
      "memory usage: 10.8+ MB\n"
     ]
    }
   ],
   "source": [
    "train.info()"
   ]
  },
  {
   "cell_type": "code",
   "execution_count": 8,
   "id": "ehakP78o3lbu",
   "metadata": {
    "colab": {
     "base_uri": "https://localhost:8080/"
    },
    "executionInfo": {
     "elapsed": 7,
     "status": "ok",
     "timestamp": 1680973067697,
     "user": {
      "displayName": "Artem Rakhlevskii",
      "userId": "03344283083967930388"
     },
     "user_tz": -180
    },
    "id": "ehakP78o3lbu",
    "outputId": "2048b2ba-348d-481f-e324-d68c2ad68a33"
   },
   "outputs": [
    {
     "name": "stdout",
     "output_type": "stream",
     "text": [
      "CPU times: total: 0 ns\n",
      "Wall time: 0 ns\n"
     ]
    }
   ],
   "source": [
    "%%time\n",
    "def nan_search(df):\n",
    "  return round(df.isna().sum() / len(df) *100, 3)"
   ]
  },
  {
   "cell_type": "code",
   "execution_count": 9,
   "id": "ZhKYmAOQhb2z",
   "metadata": {
    "colab": {
     "base_uri": "https://localhost:8080/"
    },
    "executionInfo": {
     "elapsed": 6,
     "status": "ok",
     "timestamp": 1680973067698,
     "user": {
      "displayName": "Artem Rakhlevskii",
      "userId": "03344283083967930388"
     },
     "user_tz": -180
    },
    "id": "ZhKYmAOQhb2z",
    "outputId": "cce5c45d-465d-4a65-dda4-c7660136363f"
   },
   "outputs": [
    {
     "data": {
      "text/plain": [
       "id               0.000\n",
       "brand            0.000\n",
       "model            0.000\n",
       "year             0.009\n",
       "transmission     0.000\n",
       "mileage          0.000\n",
       "fuelType         0.000\n",
       "tax             13.116\n",
       "mpg              8.613\n",
       "engineSize       0.000\n",
       "tax(£)          95.497\n",
       "price            0.000\n",
       "sample           0.000\n",
       "dtype: float64"
      ]
     },
     "execution_count": 9,
     "metadata": {},
     "output_type": "execute_result"
    }
   ],
   "source": [
    "nan_search(df)"
   ]
  },
  {
   "cell_type": "code",
   "execution_count": 10,
   "id": "NqRvYS9VjWr3",
   "metadata": {
    "colab": {
     "base_uri": "https://localhost:8080/"
    },
    "executionInfo": {
     "elapsed": 6,
     "status": "ok",
     "timestamp": 1680973067699,
     "user": {
      "displayName": "Artem Rakhlevskii",
      "userId": "03344283083967930388"
     },
     "user_tz": -180
    },
    "id": "NqRvYS9VjWr3",
    "outputId": "1aa4300e-df89-4b72-dee7-e42aa66b3c22"
   },
   "outputs": [
    {
     "data": {
      "text/plain": [
       "id               0.000\n",
       "brand            0.000\n",
       "model            0.000\n",
       "year             0.000\n",
       "transmission     0.000\n",
       "mileage          0.000\n",
       "fuelType         0.000\n",
       "tax             12.905\n",
       "mpg              8.697\n",
       "engineSize       0.000\n",
       "tax(£)          95.792\n",
       "sample           0.000\n",
       "dtype: float64"
      ]
     },
     "execution_count": 10,
     "metadata": {},
     "output_type": "execute_result"
    }
   ],
   "source": [
    "nan_search(test)"
   ]
  },
  {
   "cell_type": "markdown",
   "id": "Uc5oH82T71_8",
   "metadata": {
    "id": "Uc5oH82T71_8"
   },
   "source": [
    "### Year"
   ]
  },
  {
   "cell_type": "code",
   "execution_count": 11,
   "id": "U18kl4bE4Lz2",
   "metadata": {
    "colab": {
     "base_uri": "https://localhost:8080/",
     "height": 332
    },
    "executionInfo": {
     "elapsed": 36,
     "status": "ok",
     "timestamp": 1680973069736,
     "user": {
      "displayName": "Artem Rakhlevskii",
      "userId": "03344283083967930388"
     },
     "user_tz": -180
    },
    "id": "U18kl4bE4Lz2",
    "outputId": "a81de790-d60c-4c4c-e98a-d23efa66e00b"
   },
   "outputs": [
    {
     "data": {
      "text/html": [
       "<div>\n",
       "<style scoped>\n",
       "    .dataframe tbody tr th:only-of-type {\n",
       "        vertical-align: middle;\n",
       "    }\n",
       "\n",
       "    .dataframe tbody tr th {\n",
       "        vertical-align: top;\n",
       "    }\n",
       "\n",
       "    .dataframe thead th {\n",
       "        text-align: right;\n",
       "    }\n",
       "</style>\n",
       "<table border=\"1\" class=\"dataframe\">\n",
       "  <thead>\n",
       "    <tr style=\"text-align: right;\">\n",
       "      <th></th>\n",
       "      <th>id</th>\n",
       "      <th>brand</th>\n",
       "      <th>model</th>\n",
       "      <th>year</th>\n",
       "      <th>transmission</th>\n",
       "      <th>mileage</th>\n",
       "      <th>fuelType</th>\n",
       "      <th>tax</th>\n",
       "      <th>mpg</th>\n",
       "      <th>engineSize</th>\n",
       "      <th>tax(£)</th>\n",
       "      <th>price</th>\n",
       "      <th>sample</th>\n",
       "    </tr>\n",
       "  </thead>\n",
       "  <tbody>\n",
       "    <tr>\n",
       "      <th>3889</th>\n",
       "      <td>3889</td>\n",
       "      <td>Hyundai</td>\n",
       "      <td>I10</td>\n",
       "      <td>NaN</td>\n",
       "      <td>Manual</td>\n",
       "      <td>16512 km</td>\n",
       "      <td>Petrol</td>\n",
       "      <td>NaN</td>\n",
       "      <td>57.7</td>\n",
       "      <td>1.2</td>\n",
       "      <td>145.0</td>\n",
       "      <td>7289.0</td>\n",
       "      <td>train</td>\n",
       "    </tr>\n",
       "    <tr>\n",
       "      <th>10869</th>\n",
       "      <td>10869</td>\n",
       "      <td>vw</td>\n",
       "      <td>Touareg</td>\n",
       "      <td>NaN</td>\n",
       "      <td>Automatic</td>\n",
       "      <td>7094 km</td>\n",
       "      <td>Diesel</td>\n",
       "      <td>145.0</td>\n",
       "      <td>34.0</td>\n",
       "      <td>3.0</td>\n",
       "      <td>NaN</td>\n",
       "      <td>36916.0</td>\n",
       "      <td>train</td>\n",
       "    </tr>\n",
       "    <tr>\n",
       "      <th>41026</th>\n",
       "      <td>41026</td>\n",
       "      <td>ford</td>\n",
       "      <td>Fiesta</td>\n",
       "      <td>NaN</td>\n",
       "      <td>Manual</td>\n",
       "      <td>19741 km</td>\n",
       "      <td>Petrol</td>\n",
       "      <td>145.0</td>\n",
       "      <td>65.7</td>\n",
       "      <td>1.0</td>\n",
       "      <td>NaN</td>\n",
       "      <td>10680.0</td>\n",
       "      <td>train</td>\n",
       "    </tr>\n",
       "    <tr>\n",
       "      <th>42118</th>\n",
       "      <td>42118</td>\n",
       "      <td>vw</td>\n",
       "      <td>Polo</td>\n",
       "      <td>NaN</td>\n",
       "      <td>Manual</td>\n",
       "      <td>42140 km</td>\n",
       "      <td>Petrol</td>\n",
       "      <td>125.0</td>\n",
       "      <td>51.4</td>\n",
       "      <td>1.2</td>\n",
       "      <td>NaN</td>\n",
       "      <td>6290.0</td>\n",
       "      <td>train</td>\n",
       "    </tr>\n",
       "    <tr>\n",
       "      <th>42551</th>\n",
       "      <td>42551</td>\n",
       "      <td>vauxhall</td>\n",
       "      <td>Mokka X</td>\n",
       "      <td>NaN</td>\n",
       "      <td>Manual</td>\n",
       "      <td>20750 km</td>\n",
       "      <td>Petrol</td>\n",
       "      <td>150.0</td>\n",
       "      <td>47.1</td>\n",
       "      <td>1.4</td>\n",
       "      <td>NaN</td>\n",
       "      <td>10495.0</td>\n",
       "      <td>train</td>\n",
       "    </tr>\n",
       "    <tr>\n",
       "      <th>53163</th>\n",
       "      <td>53163</td>\n",
       "      <td>audi</td>\n",
       "      <td>A6</td>\n",
       "      <td>NaN</td>\n",
       "      <td>Automatic</td>\n",
       "      <td>17845 km</td>\n",
       "      <td>Diesel</td>\n",
       "      <td>145.0</td>\n",
       "      <td>58.9</td>\n",
       "      <td>2.0</td>\n",
       "      <td>NaN</td>\n",
       "      <td>22800.0</td>\n",
       "      <td>train</td>\n",
       "    </tr>\n",
       "    <tr>\n",
       "      <th>61339</th>\n",
       "      <td>61339</td>\n",
       "      <td>vauxhall</td>\n",
       "      <td>Corsa</td>\n",
       "      <td>NaN</td>\n",
       "      <td>Manual</td>\n",
       "      <td>17880 km</td>\n",
       "      <td>Petrol</td>\n",
       "      <td>145.0</td>\n",
       "      <td>54.3</td>\n",
       "      <td>1.4</td>\n",
       "      <td>NaN</td>\n",
       "      <td>8995.0</td>\n",
       "      <td>train</td>\n",
       "    </tr>\n",
       "    <tr>\n",
       "      <th>66885</th>\n",
       "      <td>66885</td>\n",
       "      <td>vauxhall</td>\n",
       "      <td>Corsa</td>\n",
       "      <td>NaN</td>\n",
       "      <td>Manual</td>\n",
       "      <td>3203 km</td>\n",
       "      <td>Petrol</td>\n",
       "      <td>150.0</td>\n",
       "      <td>43.5</td>\n",
       "      <td>1.4</td>\n",
       "      <td>NaN</td>\n",
       "      <td>10975.0</td>\n",
       "      <td>train</td>\n",
       "    </tr>\n",
       "    <tr>\n",
       "      <th>77720</th>\n",
       "      <td>77720</td>\n",
       "      <td>vw</td>\n",
       "      <td>Sharan</td>\n",
       "      <td>NaN</td>\n",
       "      <td>Manual</td>\n",
       "      <td>11565 km</td>\n",
       "      <td>Diesel</td>\n",
       "      <td>145.0</td>\n",
       "      <td>43.5</td>\n",
       "      <td>2.0</td>\n",
       "      <td>NaN</td>\n",
       "      <td>23646.0</td>\n",
       "      <td>train</td>\n",
       "    </tr>\n",
       "  </tbody>\n",
       "</table>\n",
       "</div>"
      ],
      "text/plain": [
       "          id     brand     model  year transmission   mileage fuelType    tax  \\\n",
       "3889    3889   Hyundai       I10   NaN       Manual  16512 km   Petrol    NaN   \n",
       "10869  10869        vw   Touareg   NaN    Automatic   7094 km   Diesel  145.0   \n",
       "41026  41026      ford    Fiesta   NaN       Manual  19741 km   Petrol  145.0   \n",
       "42118  42118        vw      Polo   NaN       Manual  42140 km   Petrol  125.0   \n",
       "42551  42551  vauxhall   Mokka X   NaN       Manual  20750 km   Petrol  150.0   \n",
       "53163  53163      audi        A6   NaN    Automatic  17845 km   Diesel  145.0   \n",
       "61339  61339  vauxhall     Corsa   NaN       Manual  17880 km   Petrol  145.0   \n",
       "66885  66885  vauxhall     Corsa   NaN       Manual   3203 km   Petrol  150.0   \n",
       "77720  77720        vw    Sharan   NaN       Manual  11565 km   Diesel  145.0   \n",
       "\n",
       "        mpg  engineSize  tax(£)    price sample  \n",
       "3889   57.7         1.2   145.0   7289.0  train  \n",
       "10869  34.0         3.0     NaN  36916.0  train  \n",
       "41026  65.7         1.0     NaN  10680.0  train  \n",
       "42118  51.4         1.2     NaN   6290.0  train  \n",
       "42551  47.1         1.4     NaN  10495.0  train  \n",
       "53163  58.9         2.0     NaN  22800.0  train  \n",
       "61339  54.3         1.4     NaN   8995.0  train  \n",
       "66885  43.5         1.4     NaN  10975.0  train  \n",
       "77720  43.5         2.0     NaN  23646.0  train  "
      ]
     },
     "execution_count": 11,
     "metadata": {},
     "output_type": "execute_result"
    }
   ],
   "source": [
    "# можно заменить средним годом\n",
    "train[train.year.isna() == True]"
   ]
  },
  {
   "cell_type": "code",
   "execution_count": 12,
   "id": "V3XAjnG77IB-",
   "metadata": {
    "executionInfo": {
     "elapsed": 20,
     "status": "ok",
     "timestamp": 1680973069738,
     "user": {
      "displayName": "Artem Rakhlevskii",
      "userId": "03344283083967930388"
     },
     "user_tz": -180
    },
    "id": "V3XAjnG77IB-"
   },
   "outputs": [],
   "source": [
    "train['year_flg'] = np.where(train.year.isna()==True, 0, 1)"
   ]
  },
  {
   "cell_type": "code",
   "execution_count": 13,
   "id": "biK94R7C6auD",
   "metadata": {
    "executionInfo": {
     "elapsed": 23,
     "status": "ok",
     "timestamp": 1680973069742,
     "user": {
      "displayName": "Artem Rakhlevskii",
      "userId": "03344283083967930388"
     },
     "user_tz": -180
    },
    "id": "biK94R7C6auD"
   },
   "outputs": [],
   "source": [
    "train.year.fillna(train.year.mean(), inplace=True)"
   ]
  },
  {
   "cell_type": "markdown",
   "id": "ozKXZE8B85ry",
   "metadata": {
    "id": "ozKXZE8B85ry"
   },
   "source": [
    "### MPG search"
   ]
  },
  {
   "cell_type": "code",
   "execution_count": 14,
   "id": "hZBVdqxg6rNn",
   "metadata": {
    "colab": {
     "base_uri": "https://localhost:8080/"
    },
    "executionInfo": {
     "elapsed": 696,
     "status": "ok",
     "timestamp": 1680973074188,
     "user": {
      "displayName": "Artem Rakhlevskii",
      "userId": "03344283083967930388"
     },
     "user_tz": -180
    },
    "id": "hZBVdqxg6rNn",
    "outputId": "ea686118-2154-49d8-ef60-0217db9c1ccf"
   },
   "outputs": [
    {
     "data": {
      "text/plain": [
       "id               0.000\n",
       "brand            0.000\n",
       "model            0.000\n",
       "year             0.000\n",
       "transmission     0.000\n",
       "mileage          0.000\n",
       "fuelType         0.000\n",
       "tax             13.097\n",
       "mpg              8.620\n",
       "engineSize       0.000\n",
       "tax(£)          95.523\n",
       "price            8.826\n",
       "sample           0.000\n",
       "year_flg         0.000\n",
       "dtype: float64"
      ]
     },
     "execution_count": 14,
     "metadata": {},
     "output_type": "execute_result"
    }
   ],
   "source": [
    "nan_search(train)"
   ]
  },
  {
   "cell_type": "code",
   "execution_count": 15,
   "id": "UBNZj8yg9PQZ",
   "metadata": {
    "colab": {
     "base_uri": "https://localhost:8080/"
    },
    "executionInfo": {
     "elapsed": 18,
     "status": "ok",
     "timestamp": 1680973074816,
     "user": {
      "displayName": "Artem Rakhlevskii",
      "userId": "03344283083967930388"
     },
     "user_tz": -180
    },
    "id": "UBNZj8yg9PQZ",
    "outputId": "891388fe-35ac-4221-c216-b783ff923c49"
   },
   "outputs": [
    {
     "data": {
      "text/plain": [
       "array(['train', 'test'], dtype=object)"
      ]
     },
     "execution_count": 15,
     "metadata": {},
     "output_type": "execute_result"
    }
   ],
   "source": [
    "(train[train.mpg.isna()==True])['sample'].unique()"
   ]
  },
  {
   "cell_type": "code",
   "execution_count": 16,
   "id": "OEiJPVHh_tli",
   "metadata": {
    "executionInfo": {
     "elapsed": 1330,
     "status": "ok",
     "timestamp": 1680973076137,
     "user": {
      "displayName": "Artem Rakhlevskii",
      "userId": "03344283083967930388"
     },
     "user_tz": -180
    },
    "id": "OEiJPVHh_tli"
   },
   "outputs": [],
   "source": [
    "train['mpg_flg'] = np.where(train.mpg.isna()==True, 0, 1)\n",
    "train.mpg.fillna(train.mpg.median(), inplace=True)"
   ]
  },
  {
   "cell_type": "code",
   "execution_count": 17,
   "id": "NWqEF3POAPil",
   "metadata": {
    "colab": {
     "base_uri": "https://localhost:8080/"
    },
    "executionInfo": {
     "elapsed": 7,
     "status": "ok",
     "timestamp": 1680973076139,
     "user": {
      "displayName": "Artem Rakhlevskii",
      "userId": "03344283083967930388"
     },
     "user_tz": -180
    },
    "id": "NWqEF3POAPil",
    "outputId": "791c048c-8154-4d43-eec8-dc0d822827b1"
   },
   "outputs": [
    {
     "data": {
      "text/plain": [
       "id               0.000\n",
       "brand            0.000\n",
       "model            0.000\n",
       "year             0.000\n",
       "transmission     0.000\n",
       "mileage          0.000\n",
       "fuelType         0.000\n",
       "tax             13.097\n",
       "mpg              0.000\n",
       "engineSize       0.000\n",
       "tax(£)          95.523\n",
       "price            8.826\n",
       "sample           0.000\n",
       "year_flg         0.000\n",
       "mpg_flg          0.000\n",
       "dtype: float64"
      ]
     },
     "execution_count": 17,
     "metadata": {},
     "output_type": "execute_result"
    }
   ],
   "source": [
    "nan_search(train)"
   ]
  },
  {
   "cell_type": "markdown",
   "id": "jqla0cq4Cz9u",
   "metadata": {
    "id": "jqla0cq4Cz9u"
   },
   "source": [
    "### Categorical features"
   ]
  },
  {
   "cell_type": "markdown",
   "id": "0c8d9561-a778-46ba-a6d1-00cd71083334",
   "metadata": {
    "id": "0c8d9561-a778-46ba-a6d1-00cd71083334"
   },
   "source": [
    "To build (one of) the simplest LR models that works, we need to:\n",
    "1. select only numeric features.\n",
    "2. drop incomplete examples."
   ]
  },
  {
   "cell_type": "code",
   "execution_count": 18,
   "id": "4JtU6eRwDS5I",
   "metadata": {
    "colab": {
     "base_uri": "https://localhost:8080/"
    },
    "executionInfo": {
     "elapsed": 1031,
     "status": "ok",
     "timestamp": 1680973083015,
     "user": {
      "displayName": "Artem Rakhlevskii",
      "userId": "03344283083967930388"
     },
     "user_tz": -180
    },
    "id": "4JtU6eRwDS5I",
    "outputId": "1c28de6f-d801-46c4-b4c4-acce22091872"
   },
   "outputs": [
    {
     "name": "stdout",
     "output_type": "stream",
     "text": [
      "brand строка, мало уникальных\n",
      "model строка,\n",
      "transmission строка, мало уникальных\n",
      "mileage строка,\n",
      "fuelType строка, мало уникальных\n",
      "sample строка, мало уникальных\n",
      "year_flg мало уникальных\n",
      "mpg_flg мало уникальных\n"
     ]
    },
    {
     "data": {
      "text/plain": [
       "['brand',\n",
       " 'model',\n",
       " 'transmission',\n",
       " 'mileage',\n",
       " 'fuelType',\n",
       " 'sample',\n",
       " 'year_flg',\n",
       " 'mpg_flg']"
      ]
     },
     "execution_count": 18,
     "metadata": {},
     "output_type": "execute_result"
    }
   ],
   "source": [
    "def find_cat(data, num_uniq=10):\n",
    "    columns = []\n",
    "    for name in data.columns:\n",
    "        message = name\n",
    "        if type(data[name][0]) == str:\n",
    "            message += \" строка,\"\n",
    "        if data[name].nunique() <= num_uniq:\n",
    "            message += \" мало уникальных\"\n",
    "        if message != name:\n",
    "            columns.append(name)\n",
    "            print(message)\n",
    "    return columns\n",
    "            \n",
    "find_cat(train)"
   ]
  },
  {
   "cell_type": "code",
   "execution_count": 19,
   "id": "miOm7LAYEnzA",
   "metadata": {
    "executionInfo": {
     "elapsed": 4,
     "status": "ok",
     "timestamp": 1680973083252,
     "user": {
      "displayName": "Artem Rakhlevskii",
      "userId": "03344283083967930388"
     },
     "user_tz": -180
    },
    "id": "miOm7LAYEnzA"
   },
   "outputs": [],
   "source": [
    "cat_features = ['brand',\n",
    "                'transmission',\n",
    "                'fuelType']"
   ]
  },
  {
   "cell_type": "code",
   "execution_count": 20,
   "id": "535804e6-7694-4433-957e-c1bee6a948a8",
   "metadata": {
    "executionInfo": {
     "elapsed": 5,
     "status": "ok",
     "timestamp": 1680973083253,
     "user": {
      "displayName": "Artem Rakhlevskii",
      "userId": "03344283083967930388"
     },
     "user_tz": -180
    },
    "id": "535804e6-7694-4433-957e-c1bee6a948a8"
   },
   "outputs": [],
   "source": [
    "numeric_features = ['year', 'mileage', 'tax', 'mpg', 'engineSize', 'year_flg', 'mpg_flg']"
   ]
  },
  {
   "cell_type": "markdown",
   "id": "evZWgkX-KIju",
   "metadata": {
    "id": "evZWgkX-KIju"
   },
   "source": [
    "### Transmission"
   ]
  },
  {
   "cell_type": "markdown",
   "id": "thorough-soccer",
   "metadata": {
    "id": "thorough-soccer"
   },
   "source": [
    "**Possible directions:**\n",
    "\n",
    "- work more carefully with missing values\n",
    "- work more carefully with feature scales\n",
    "- include more features in the model\n",
    "- optimize regression coefficients (using L1 or L2 regularization)"
   ]
  },
  {
   "cell_type": "code",
   "execution_count": 21,
   "id": "3d2c2067-66e1-40ad-878e-76b6d8881c49",
   "metadata": {
    "colab": {
     "base_uri": "https://localhost:8080/"
    },
    "executionInfo": {
     "elapsed": 585,
     "status": "ok",
     "timestamp": 1680973087122,
     "user": {
      "displayName": "Artem Rakhlevskii",
      "userId": "03344283083967930388"
     },
     "user_tz": -180
    },
    "id": "3d2c2067-66e1-40ad-878e-76b6d8881c49",
    "outputId": "4ad9252c-6f45-4c8f-c3cc-bbabe1699460"
   },
   "outputs": [
    {
     "data": {
      "text/plain": [
       "Manual       61319\n",
       "Semi-Auto    24903\n",
       "Automatic    22294\n",
       "Other           10\n",
       "Name: transmission, dtype: int64"
      ]
     },
     "execution_count": 21,
     "metadata": {},
     "output_type": "execute_result"
    }
   ],
   "source": [
    "train.transmission.value_counts()"
   ]
  },
  {
   "cell_type": "markdown",
   "id": "e8cd9780-ae8f-4f48-a006-1a4c9ba770a2",
   "metadata": {
    "id": "e8cd9780-ae8f-4f48-a006-1a4c9ba770a2"
   },
   "source": [
    "We will use **dummy** or **one-hot encoding** technique to encode these features. This is not the only option availble: ordinal encoding and target encoding are also possible for this feature ([brief explanation](https://medium.com/analytics-vidhya/target-encoding-vs-one-hot-encoding-with-simple-examples-276a7e7b3e64), [OHE API](https://scikit-learn.org/stable/modules/generated/sklearn.preprocessing.OneHotEncoder.html#sklearn.preprocessing.OneHotEncoder), [ordinal API](https://scikit-learn.org/stable/modules/generated/sklearn.preprocessing.OrdinalEncoder.html#sklearn.preprocessing.OrdinalEncoder), [target API](https://contrib.scikit-learn.org/category_encoders/targetencoder.html))."
   ]
  },
  {
   "cell_type": "code",
   "execution_count": 22,
   "id": "b7e61145-33b1-4dab-a3ef-39251d908f9d",
   "metadata": {
    "colab": {
     "base_uri": "https://localhost:8080/",
     "height": 206
    },
    "executionInfo": {
     "elapsed": 17,
     "status": "ok",
     "timestamp": 1680973088175,
     "user": {
      "displayName": "Artem Rakhlevskii",
      "userId": "03344283083967930388"
     },
     "user_tz": -180
    },
    "id": "b7e61145-33b1-4dab-a3ef-39251d908f9d",
    "outputId": "55e9bb06-9067-4f3c-af32-fb77eae71dff"
   },
   "outputs": [
    {
     "data": {
      "text/html": [
       "<div>\n",
       "<style scoped>\n",
       "    .dataframe tbody tr th:only-of-type {\n",
       "        vertical-align: middle;\n",
       "    }\n",
       "\n",
       "    .dataframe tbody tr th {\n",
       "        vertical-align: top;\n",
       "    }\n",
       "\n",
       "    .dataframe thead th {\n",
       "        text-align: right;\n",
       "    }\n",
       "</style>\n",
       "<table border=\"1\" class=\"dataframe\">\n",
       "  <thead>\n",
       "    <tr style=\"text-align: right;\">\n",
       "      <th></th>\n",
       "      <th>id</th>\n",
       "      <th>brand</th>\n",
       "      <th>model</th>\n",
       "      <th>year</th>\n",
       "      <th>transmission</th>\n",
       "      <th>mileage</th>\n",
       "      <th>fuelType</th>\n",
       "      <th>tax</th>\n",
       "      <th>mpg</th>\n",
       "      <th>engineSize</th>\n",
       "      <th>tax(£)</th>\n",
       "      <th>price</th>\n",
       "      <th>sample</th>\n",
       "      <th>year_flg</th>\n",
       "      <th>mpg_flg</th>\n",
       "    </tr>\n",
       "  </thead>\n",
       "  <tbody>\n",
       "    <tr>\n",
       "      <th>0</th>\n",
       "      <td>0</td>\n",
       "      <td>vauxhall</td>\n",
       "      <td>Astra</td>\n",
       "      <td>2017.0</td>\n",
       "      <td>Manual</td>\n",
       "      <td>19000 km</td>\n",
       "      <td>Diesel</td>\n",
       "      <td>20.0</td>\n",
       "      <td>72.4</td>\n",
       "      <td>1.6</td>\n",
       "      <td>NaN</td>\n",
       "      <td>10095.0</td>\n",
       "      <td>train</td>\n",
       "      <td>1</td>\n",
       "      <td>1</td>\n",
       "    </tr>\n",
       "    <tr>\n",
       "      <th>1</th>\n",
       "      <td>1</td>\n",
       "      <td>ford</td>\n",
       "      <td>Focus</td>\n",
       "      <td>2017.0</td>\n",
       "      <td>Manual</td>\n",
       "      <td>26973 km</td>\n",
       "      <td>Petrol</td>\n",
       "      <td>145.0</td>\n",
       "      <td>57.7</td>\n",
       "      <td>1.0</td>\n",
       "      <td>NaN</td>\n",
       "      <td>11999.0</td>\n",
       "      <td>train</td>\n",
       "      <td>1</td>\n",
       "      <td>1</td>\n",
       "    </tr>\n",
       "    <tr>\n",
       "      <th>2</th>\n",
       "      <td>2</td>\n",
       "      <td>Mercedes-Benz</td>\n",
       "      <td>A Class</td>\n",
       "      <td>2019.0</td>\n",
       "      <td>Manual</td>\n",
       "      <td>2078 km</td>\n",
       "      <td>Petrol</td>\n",
       "      <td>145.0</td>\n",
       "      <td>47.1</td>\n",
       "      <td>1.3</td>\n",
       "      <td>NaN</td>\n",
       "      <td>23299.0</td>\n",
       "      <td>train</td>\n",
       "      <td>1</td>\n",
       "      <td>1</td>\n",
       "    </tr>\n",
       "    <tr>\n",
       "      <th>3</th>\n",
       "      <td>3</td>\n",
       "      <td>toyota</td>\n",
       "      <td>Aygo</td>\n",
       "      <td>2016.0</td>\n",
       "      <td>Manual</td>\n",
       "      <td>20169 km</td>\n",
       "      <td>Petrol</td>\n",
       "      <td>0.0</td>\n",
       "      <td>69.0</td>\n",
       "      <td>1.0</td>\n",
       "      <td>NaN</td>\n",
       "      <td>6698.0</td>\n",
       "      <td>train</td>\n",
       "      <td>1</td>\n",
       "      <td>1</td>\n",
       "    </tr>\n",
       "    <tr>\n",
       "      <th>4</th>\n",
       "      <td>4</td>\n",
       "      <td>bmw</td>\n",
       "      <td>4 Series</td>\n",
       "      <td>2016.0</td>\n",
       "      <td>Manual</td>\n",
       "      <td>97706 km</td>\n",
       "      <td>Diesel</td>\n",
       "      <td>30.0</td>\n",
       "      <td>62.8</td>\n",
       "      <td>2.0</td>\n",
       "      <td>NaN</td>\n",
       "      <td>11250.0</td>\n",
       "      <td>train</td>\n",
       "      <td>1</td>\n",
       "      <td>1</td>\n",
       "    </tr>\n",
       "  </tbody>\n",
       "</table>\n",
       "</div>"
      ],
      "text/plain": [
       "   id          brand      model    year transmission   mileage fuelType  \\\n",
       "0   0       vauxhall      Astra  2017.0       Manual  19000 km   Diesel   \n",
       "1   1           ford      Focus  2017.0       Manual  26973 km   Petrol   \n",
       "2   2  Mercedes-Benz    A Class  2019.0       Manual   2078 km   Petrol   \n",
       "3   3         toyota       Aygo  2016.0       Manual  20169 km   Petrol   \n",
       "4   4            bmw   4 Series  2016.0       Manual  97706 km   Diesel   \n",
       "\n",
       "     tax   mpg  engineSize  tax(£)    price sample  year_flg  mpg_flg  \n",
       "0   20.0  72.4         1.6     NaN  10095.0  train         1        1  \n",
       "1  145.0  57.7         1.0     NaN  11999.0  train         1        1  \n",
       "2  145.0  47.1         1.3     NaN  23299.0  train         1        1  \n",
       "3    0.0  69.0         1.0     NaN   6698.0  train         1        1  \n",
       "4   30.0  62.8         2.0     NaN  11250.0  train         1        1  "
      ]
     },
     "execution_count": 22,
     "metadata": {},
     "output_type": "execute_result"
    }
   ],
   "source": [
    "train.head()"
   ]
  },
  {
   "cell_type": "code",
   "execution_count": 23,
   "id": "d4befaaa-2cc2-4570-9679-ae243fc54191",
   "metadata": {
    "colab": {
     "base_uri": "https://localhost:8080/",
     "height": 404
    },
    "executionInfo": {
     "elapsed": 41,
     "status": "ok",
     "timestamp": 1680973089603,
     "user": {
      "displayName": "Artem Rakhlevskii",
      "userId": "03344283083967930388"
     },
     "user_tz": -180
    },
    "id": "d4befaaa-2cc2-4570-9679-ae243fc54191",
    "outputId": "de9e2525-c7ec-4fae-d912-e6d0b3165477"
   },
   "outputs": [
    {
     "data": {
      "text/html": [
       "<div>\n",
       "<style scoped>\n",
       "    .dataframe tbody tr th:only-of-type {\n",
       "        vertical-align: middle;\n",
       "    }\n",
       "\n",
       "    .dataframe tbody tr th {\n",
       "        vertical-align: top;\n",
       "    }\n",
       "\n",
       "    .dataframe thead th {\n",
       "        text-align: right;\n",
       "    }\n",
       "</style>\n",
       "<table border=\"1\" class=\"dataframe\">\n",
       "  <thead>\n",
       "    <tr style=\"text-align: right;\">\n",
       "      <th></th>\n",
       "      <th>id</th>\n",
       "      <th>model</th>\n",
       "      <th>year</th>\n",
       "      <th>mileage</th>\n",
       "      <th>tax</th>\n",
       "      <th>mpg</th>\n",
       "      <th>engineSize</th>\n",
       "      <th>tax(£)</th>\n",
       "      <th>price</th>\n",
       "      <th>sample</th>\n",
       "      <th>...</th>\n",
       "      <th>brand_vw</th>\n",
       "      <th>transmission_Automatic</th>\n",
       "      <th>transmission_Manual</th>\n",
       "      <th>transmission_Other</th>\n",
       "      <th>transmission_Semi-Auto</th>\n",
       "      <th>fuelType_Diesel</th>\n",
       "      <th>fuelType_Electric</th>\n",
       "      <th>fuelType_Hybrid</th>\n",
       "      <th>fuelType_Other</th>\n",
       "      <th>fuelType_Petrol</th>\n",
       "    </tr>\n",
       "  </thead>\n",
       "  <tbody>\n",
       "    <tr>\n",
       "      <th>0</th>\n",
       "      <td>0</td>\n",
       "      <td>Astra</td>\n",
       "      <td>2017.0</td>\n",
       "      <td>19000 km</td>\n",
       "      <td>20.0</td>\n",
       "      <td>72.4</td>\n",
       "      <td>1.6</td>\n",
       "      <td>NaN</td>\n",
       "      <td>10095.0</td>\n",
       "      <td>train</td>\n",
       "      <td>...</td>\n",
       "      <td>0</td>\n",
       "      <td>0</td>\n",
       "      <td>1</td>\n",
       "      <td>0</td>\n",
       "      <td>0</td>\n",
       "      <td>1</td>\n",
       "      <td>0</td>\n",
       "      <td>0</td>\n",
       "      <td>0</td>\n",
       "      <td>0</td>\n",
       "    </tr>\n",
       "    <tr>\n",
       "      <th>1</th>\n",
       "      <td>1</td>\n",
       "      <td>Focus</td>\n",
       "      <td>2017.0</td>\n",
       "      <td>26973 km</td>\n",
       "      <td>145.0</td>\n",
       "      <td>57.7</td>\n",
       "      <td>1.0</td>\n",
       "      <td>NaN</td>\n",
       "      <td>11999.0</td>\n",
       "      <td>train</td>\n",
       "      <td>...</td>\n",
       "      <td>0</td>\n",
       "      <td>0</td>\n",
       "      <td>1</td>\n",
       "      <td>0</td>\n",
       "      <td>0</td>\n",
       "      <td>0</td>\n",
       "      <td>0</td>\n",
       "      <td>0</td>\n",
       "      <td>0</td>\n",
       "      <td>1</td>\n",
       "    </tr>\n",
       "    <tr>\n",
       "      <th>2</th>\n",
       "      <td>2</td>\n",
       "      <td>A Class</td>\n",
       "      <td>2019.0</td>\n",
       "      <td>2078 km</td>\n",
       "      <td>145.0</td>\n",
       "      <td>47.1</td>\n",
       "      <td>1.3</td>\n",
       "      <td>NaN</td>\n",
       "      <td>23299.0</td>\n",
       "      <td>train</td>\n",
       "      <td>...</td>\n",
       "      <td>0</td>\n",
       "      <td>0</td>\n",
       "      <td>1</td>\n",
       "      <td>0</td>\n",
       "      <td>0</td>\n",
       "      <td>0</td>\n",
       "      <td>0</td>\n",
       "      <td>0</td>\n",
       "      <td>0</td>\n",
       "      <td>1</td>\n",
       "    </tr>\n",
       "    <tr>\n",
       "      <th>3</th>\n",
       "      <td>3</td>\n",
       "      <td>Aygo</td>\n",
       "      <td>2016.0</td>\n",
       "      <td>20169 km</td>\n",
       "      <td>0.0</td>\n",
       "      <td>69.0</td>\n",
       "      <td>1.0</td>\n",
       "      <td>NaN</td>\n",
       "      <td>6698.0</td>\n",
       "      <td>train</td>\n",
       "      <td>...</td>\n",
       "      <td>0</td>\n",
       "      <td>0</td>\n",
       "      <td>1</td>\n",
       "      <td>0</td>\n",
       "      <td>0</td>\n",
       "      <td>0</td>\n",
       "      <td>0</td>\n",
       "      <td>0</td>\n",
       "      <td>0</td>\n",
       "      <td>1</td>\n",
       "    </tr>\n",
       "    <tr>\n",
       "      <th>4</th>\n",
       "      <td>4</td>\n",
       "      <td>4 Series</td>\n",
       "      <td>2016.0</td>\n",
       "      <td>97706 km</td>\n",
       "      <td>30.0</td>\n",
       "      <td>62.8</td>\n",
       "      <td>2.0</td>\n",
       "      <td>NaN</td>\n",
       "      <td>11250.0</td>\n",
       "      <td>train</td>\n",
       "      <td>...</td>\n",
       "      <td>0</td>\n",
       "      <td>0</td>\n",
       "      <td>1</td>\n",
       "      <td>0</td>\n",
       "      <td>0</td>\n",
       "      <td>1</td>\n",
       "      <td>0</td>\n",
       "      <td>0</td>\n",
       "      <td>0</td>\n",
       "      <td>0</td>\n",
       "    </tr>\n",
       "  </tbody>\n",
       "</table>\n",
       "<p>5 rows × 31 columns</p>\n",
       "</div>"
      ],
      "text/plain": [
       "   id      model    year   mileage    tax   mpg  engineSize  tax(£)    price  \\\n",
       "0   0      Astra  2017.0  19000 km   20.0  72.4         1.6     NaN  10095.0   \n",
       "1   1      Focus  2017.0  26973 km  145.0  57.7         1.0     NaN  11999.0   \n",
       "2   2    A Class  2019.0   2078 km  145.0  47.1         1.3     NaN  23299.0   \n",
       "3   3       Aygo  2016.0  20169 km    0.0  69.0         1.0     NaN   6698.0   \n",
       "4   4   4 Series  2016.0  97706 km   30.0  62.8         2.0     NaN  11250.0   \n",
       "\n",
       "  sample  ...  brand_vw  transmission_Automatic  transmission_Manual  \\\n",
       "0  train  ...         0                       0                    1   \n",
       "1  train  ...         0                       0                    1   \n",
       "2  train  ...         0                       0                    1   \n",
       "3  train  ...         0                       0                    1   \n",
       "4  train  ...         0                       0                    1   \n",
       "\n",
       "   transmission_Other  transmission_Semi-Auto  fuelType_Diesel  \\\n",
       "0                   0                       0                1   \n",
       "1                   0                       0                0   \n",
       "2                   0                       0                0   \n",
       "3                   0                       0                0   \n",
       "4                   0                       0                1   \n",
       "\n",
       "   fuelType_Electric  fuelType_Hybrid  fuelType_Other  fuelType_Petrol  \n",
       "0                  0                0               0                0  \n",
       "1                  0                0               0                1  \n",
       "2                  0                0               0                1  \n",
       "3                  0                0               0                1  \n",
       "4                  0                0               0                0  \n",
       "\n",
       "[5 rows x 31 columns]"
      ]
     },
     "execution_count": 23,
     "metadata": {},
     "output_type": "execute_result"
    }
   ],
   "source": [
    "train = pd.get_dummies(train, columns=['brand', 'transmission', 'fuelType'])\n",
    "train.head()"
   ]
  },
  {
   "cell_type": "code",
   "execution_count": 24,
   "id": "iR2EqydPPckY",
   "metadata": {
    "colab": {
     "base_uri": "https://localhost:8080/"
    },
    "executionInfo": {
     "elapsed": 39,
     "status": "ok",
     "timestamp": 1680973089604,
     "user": {
      "displayName": "Artem Rakhlevskii",
      "userId": "03344283083967930388"
     },
     "user_tz": -180
    },
    "id": "iR2EqydPPckY",
    "outputId": "ef3ce960-21c5-4691-c23c-28ea91d5e3a4"
   },
   "outputs": [
    {
     "data": {
      "text/plain": [
       "id                         0.000\n",
       "model                      0.000\n",
       "year                       0.000\n",
       "mileage                    0.000\n",
       "tax                       13.097\n",
       "mpg                        0.000\n",
       "engineSize                 0.000\n",
       "tax(£)                    95.523\n",
       "price                      8.826\n",
       "sample                     0.000\n",
       "year_flg                   0.000\n",
       "mpg_flg                    0.000\n",
       "brand_Hyundai              0.000\n",
       "brand_Mercedes-Benz        0.000\n",
       "brand_audi                 0.000\n",
       "brand_bmw                  0.000\n",
       "brand_focus                0.000\n",
       "brand_ford                 0.000\n",
       "brand_skoda                0.000\n",
       "brand_toyota               0.000\n",
       "brand_vauxhall             0.000\n",
       "brand_vw                   0.000\n",
       "transmission_Automatic     0.000\n",
       "transmission_Manual        0.000\n",
       "transmission_Other         0.000\n",
       "transmission_Semi-Auto     0.000\n",
       "fuelType_Diesel            0.000\n",
       "fuelType_Electric          0.000\n",
       "fuelType_Hybrid            0.000\n",
       "fuelType_Other             0.000\n",
       "fuelType_Petrol            0.000\n",
       "dtype: float64"
      ]
     },
     "execution_count": 24,
     "metadata": {},
     "output_type": "execute_result"
    }
   ],
   "source": [
    "nan_search(train)"
   ]
  },
  {
   "cell_type": "code",
   "execution_count": 25,
   "id": "smuVlj9WT3Jz",
   "metadata": {
    "colab": {
     "base_uri": "https://localhost:8080/"
    },
    "executionInfo": {
     "elapsed": 40,
     "status": "ok",
     "timestamp": 1680973089606,
     "user": {
      "displayName": "Artem Rakhlevskii",
      "userId": "03344283083967930388"
     },
     "user_tz": -180
    },
    "id": "smuVlj9WT3Jz",
    "outputId": "6427e2ce-9b7c-499e-e7a4-7357bf3bee55"
   },
   "outputs": [
    {
     "data": {
      "text/plain": [
       "[1970.0,\n",
       " 1991.0,\n",
       " 1995.0,\n",
       " 1996.0,\n",
       " 1997.0,\n",
       " 1998.0,\n",
       " 1999.0,\n",
       " 2000.0,\n",
       " 2001.0,\n",
       " 2002.0,\n",
       " 2003.0,\n",
       " 2004.0,\n",
       " 2005.0,\n",
       " 2006.0,\n",
       " 2007.0,\n",
       " 2008.0,\n",
       " 2009.0,\n",
       " 2010.0,\n",
       " 2011.0,\n",
       " 2012.0,\n",
       " 2013.0,\n",
       " 2014.0,\n",
       " 2015.0,\n",
       " 2016.0,\n",
       " 2017.0,\n",
       " 2017.0963535667222,\n",
       " 2018.0,\n",
       " 2019.0,\n",
       " 2020.0,\n",
       " 2060.0]"
      ]
     },
     "execution_count": 25,
     "metadata": {},
     "output_type": "execute_result"
    }
   ],
   "source": [
    "sorted(train.year.unique())"
   ]
  },
  {
   "cell_type": "code",
   "execution_count": 26,
   "id": "c2LbHhOfUQUP",
   "metadata": {
    "executionInfo": {
     "elapsed": 41,
     "status": "ok",
     "timestamp": 1680973089608,
     "user": {
      "displayName": "Artem Rakhlevskii",
      "userId": "03344283083967930388"
     },
     "user_tz": -180
    },
    "id": "c2LbHhOfUQUP"
   },
   "outputs": [],
   "source": [
    "train.year = train.year.apply(lambda x: int(x))"
   ]
  },
  {
   "cell_type": "code",
   "execution_count": 27,
   "id": "_nPN69WIUk-B",
   "metadata": {
    "executionInfo": {
     "elapsed": 41,
     "status": "ok",
     "timestamp": 1680973089609,
     "user": {
      "displayName": "Artem Rakhlevskii",
      "userId": "03344283083967930388"
     },
     "user_tz": -180
    },
    "id": "_nPN69WIUk-B"
   },
   "outputs": [],
   "source": [
    "import numpy as np\n",
    "train.mileage = train.mileage.str.replace(' km', '').apply(lambda x: float(x))"
   ]
  },
  {
   "cell_type": "code",
   "execution_count": 28,
   "id": "nDf-lwNcXOWW",
   "metadata": {
    "colab": {
     "base_uri": "https://localhost:8080/"
    },
    "executionInfo": {
     "elapsed": 42,
     "status": "ok",
     "timestamp": 1680973089611,
     "user": {
      "displayName": "Artem Rakhlevskii",
      "userId": "03344283083967930388"
     },
     "user_tz": -180
    },
    "id": "nDf-lwNcXOWW",
    "outputId": "6d430750-f8f3-4aa1-8139-2179a590ff7a"
   },
   "outputs": [
    {
     "data": {
      "text/plain": [
       "id                          0.000\n",
       "model                       0.000\n",
       "year                        0.000\n",
       "mileage                     0.000\n",
       "tax                       100.000\n",
       "mpg                         0.000\n",
       "engineSize                  0.000\n",
       "tax(£)                      0.000\n",
       "price                       8.294\n",
       "sample                      0.000\n",
       "year_flg                    0.000\n",
       "mpg_flg                     0.000\n",
       "brand_Hyundai               0.000\n",
       "brand_Mercedes-Benz         0.000\n",
       "brand_audi                  0.000\n",
       "brand_bmw                   0.000\n",
       "brand_focus                 0.000\n",
       "brand_ford                  0.000\n",
       "brand_skoda                 0.000\n",
       "brand_toyota                0.000\n",
       "brand_vauxhall              0.000\n",
       "brand_vw                    0.000\n",
       "transmission_Automatic      0.000\n",
       "transmission_Manual         0.000\n",
       "transmission_Other          0.000\n",
       "transmission_Semi-Auto      0.000\n",
       "fuelType_Diesel             0.000\n",
       "fuelType_Electric           0.000\n",
       "fuelType_Hybrid             0.000\n",
       "fuelType_Other              0.000\n",
       "fuelType_Petrol             0.000\n",
       "dtype: float64"
      ]
     },
     "execution_count": 28,
     "metadata": {},
     "output_type": "execute_result"
    }
   ],
   "source": [
    "# замечаем, что значения tax(£) присутствуют только для отсутствующих tax, можно NaN ими заменить\n",
    "nan_search(train[train['tax(£)'].isna()==False])"
   ]
  },
  {
   "cell_type": "code",
   "execution_count": 29,
   "id": "08cGGhJeYKs4",
   "metadata": {
    "executionInfo": {
     "elapsed": 42,
     "status": "ok",
     "timestamp": 1680973089612,
     "user": {
      "displayName": "Artem Rakhlevskii",
      "userId": "03344283083967930388"
     },
     "user_tz": -180
    },
    "id": "08cGGhJeYKs4"
   },
   "outputs": [],
   "source": [
    "index_tax=train[train['tax(£)'].isna()==False].index"
   ]
  },
  {
   "cell_type": "code",
   "execution_count": 30,
   "id": "dILJnWqxZcq7",
   "metadata": {
    "colab": {
     "base_uri": "https://localhost:8080/"
    },
    "executionInfo": {
     "elapsed": 43,
     "status": "ok",
     "timestamp": 1680973089614,
     "user": {
      "displayName": "Artem Rakhlevskii",
      "userId": "03344283083967930388"
     },
     "user_tz": -180
    },
    "id": "dILJnWqxZcq7",
    "outputId": "5c340a0a-8163-4171-b623-cdb8e3cffd5d"
   },
   "outputs": [
    {
     "data": {
      "text/plain": [
       "4859"
      ]
     },
     "execution_count": 30,
     "metadata": {},
     "output_type": "execute_result"
    }
   ],
   "source": [
    "np.sum(train.index.isin(index_tax))"
   ]
  },
  {
   "cell_type": "code",
   "execution_count": 31,
   "id": "YEtOzhwXYgFX",
   "metadata": {
    "executionInfo": {
     "elapsed": 43,
     "status": "ok",
     "timestamp": 1680973089615,
     "user": {
      "displayName": "Artem Rakhlevskii",
      "userId": "03344283083967930388"
     },
     "user_tz": -180
    },
    "id": "YEtOzhwXYgFX"
   },
   "outputs": [],
   "source": [
    "train['tax_new'] = np.where(train.index.isin(index_tax)==True, train['tax(£)'], train.tax)"
   ]
  },
  {
   "cell_type": "code",
   "execution_count": 32,
   "id": "3KBixXZ-cEC-",
   "metadata": {
    "executionInfo": {
     "elapsed": 43,
     "status": "ok",
     "timestamp": 1680973089616,
     "user": {
      "displayName": "Artem Rakhlevskii",
      "userId": "03344283083967930388"
     },
     "user_tz": -180
    },
    "id": "3KBixXZ-cEC-"
   },
   "outputs": [],
   "source": [
    "train['tax_flg'] = np.where(train.index.isin(index_tax)==True, 0, 1)"
   ]
  },
  {
   "cell_type": "code",
   "execution_count": 33,
   "id": "vyAlhgj0ZyNN",
   "metadata": {
    "executionInfo": {
     "elapsed": 46,
     "status": "ok",
     "timestamp": 1680973089619,
     "user": {
      "displayName": "Artem Rakhlevskii",
      "userId": "03344283083967930388"
     },
     "user_tz": -180
    },
    "id": "vyAlhgj0ZyNN"
   },
   "outputs": [],
   "source": [
    "train = train.drop(['tax', 'tax(£)'], axis=1)"
   ]
  },
  {
   "cell_type": "code",
   "execution_count": 34,
   "id": "kh6DJ5ywaSWL",
   "metadata": {
    "colab": {
     "base_uri": "https://localhost:8080/"
    },
    "executionInfo": {
     "elapsed": 46,
     "status": "ok",
     "timestamp": 1680973089620,
     "user": {
      "displayName": "Artem Rakhlevskii",
      "userId": "03344283083967930388"
     },
     "user_tz": -180
    },
    "id": "kh6DJ5ywaSWL",
    "outputId": "4a131117-1d40-4e72-e10a-4f0caa862076"
   },
   "outputs": [
    {
     "name": "stdout",
     "output_type": "stream",
     "text": [
      "<class 'pandas.core.frame.DataFrame'>\n",
      "RangeIndex: 108526 entries, 0 to 108525\n",
      "Data columns (total 31 columns):\n",
      " #   Column                  Non-Null Count   Dtype  \n",
      "---  ------                  --------------   -----  \n",
      " 0   id                      108526 non-null  int64  \n",
      " 1   model                   108526 non-null  object \n",
      " 2   year                    108526 non-null  int64  \n",
      " 3   mileage                 108526 non-null  float64\n",
      " 4   mpg                     108526 non-null  float64\n",
      " 5   engineSize              108526 non-null  float64\n",
      " 6   price                   98948 non-null   float64\n",
      " 7   sample                  108526 non-null  object \n",
      " 8   year_flg                108526 non-null  int32  \n",
      " 9   mpg_flg                 108526 non-null  int32  \n",
      " 10  brand_Hyundai           108526 non-null  uint8  \n",
      " 11  brand_Mercedes-Benz     108526 non-null  uint8  \n",
      " 12  brand_audi              108526 non-null  uint8  \n",
      " 13  brand_bmw               108526 non-null  uint8  \n",
      " 14  brand_focus             108526 non-null  uint8  \n",
      " 15  brand_ford              108526 non-null  uint8  \n",
      " 16  brand_skoda             108526 non-null  uint8  \n",
      " 17  brand_toyota            108526 non-null  uint8  \n",
      " 18  brand_vauxhall          108526 non-null  uint8  \n",
      " 19  brand_vw                108526 non-null  uint8  \n",
      " 20  transmission_Automatic  108526 non-null  uint8  \n",
      " 21  transmission_Manual     108526 non-null  uint8  \n",
      " 22  transmission_Other      108526 non-null  uint8  \n",
      " 23  transmission_Semi-Auto  108526 non-null  uint8  \n",
      " 24  fuelType_Diesel         108526 non-null  uint8  \n",
      " 25  fuelType_Electric       108526 non-null  uint8  \n",
      " 26  fuelType_Hybrid         108526 non-null  uint8  \n",
      " 27  fuelType_Other          108526 non-null  uint8  \n",
      " 28  fuelType_Petrol         108526 non-null  uint8  \n",
      " 29  tax_new                 99171 non-null   float64\n",
      " 30  tax_flg                 108526 non-null  int32  \n",
      "dtypes: float64(5), int32(3), int64(2), object(2), uint8(19)\n",
      "memory usage: 10.7+ MB\n"
     ]
    }
   ],
   "source": [
    "train.info()"
   ]
  },
  {
   "cell_type": "code",
   "execution_count": 35,
   "id": "kp3gpD1AJ_yJ",
   "metadata": {
    "executionInfo": {
     "elapsed": 41,
     "status": "ok",
     "timestamp": 1680973089622,
     "user": {
      "displayName": "Artem Rakhlevskii",
      "userId": "03344283083967930388"
     },
     "user_tz": -180
    },
    "id": "kp3gpD1AJ_yJ"
   },
   "outputs": [],
   "source": [
    "tax_mode=float(train[train.tax_flg==1].tax_new.mode())\n",
    "train.tax_new.fillna(tax_mode, inplace=True)"
   ]
  },
  {
   "cell_type": "code",
   "execution_count": 36,
   "id": "GrkmgS2sKIwQ",
   "metadata": {
    "colab": {
     "base_uri": "https://localhost:8080/"
    },
    "executionInfo": {
     "elapsed": 42,
     "status": "ok",
     "timestamp": 1680973089623,
     "user": {
      "displayName": "Artem Rakhlevskii",
      "userId": "03344283083967930388"
     },
     "user_tz": -180
    },
    "id": "GrkmgS2sKIwQ",
    "outputId": "79d74b0f-b16c-4d3c-f9fb-a8c4c958748c"
   },
   "outputs": [
    {
     "data": {
      "text/plain": [
       "id                        0.000\n",
       "model                     0.000\n",
       "year                      0.000\n",
       "mileage                   0.000\n",
       "mpg                       0.000\n",
       "engineSize                0.000\n",
       "price                     8.826\n",
       "sample                    0.000\n",
       "year_flg                  0.000\n",
       "mpg_flg                   0.000\n",
       "brand_Hyundai             0.000\n",
       "brand_Mercedes-Benz       0.000\n",
       "brand_audi                0.000\n",
       "brand_bmw                 0.000\n",
       "brand_focus               0.000\n",
       "brand_ford                0.000\n",
       "brand_skoda               0.000\n",
       "brand_toyota              0.000\n",
       "brand_vauxhall            0.000\n",
       "brand_vw                  0.000\n",
       "transmission_Automatic    0.000\n",
       "transmission_Manual       0.000\n",
       "transmission_Other        0.000\n",
       "transmission_Semi-Auto    0.000\n",
       "fuelType_Diesel           0.000\n",
       "fuelType_Electric         0.000\n",
       "fuelType_Hybrid           0.000\n",
       "fuelType_Other            0.000\n",
       "fuelType_Petrol           0.000\n",
       "tax_new                   0.000\n",
       "tax_flg                   0.000\n",
       "dtype: float64"
      ]
     },
     "execution_count": 36,
     "metadata": {},
     "output_type": "execute_result"
    }
   ],
   "source": [
    "nan_search(train)"
   ]
  },
  {
   "cell_type": "markdown",
   "id": "v-HthqruG-m6",
   "metadata": {
    "id": "v-HthqruG-m6"
   },
   "source": [
    "### Outliers fighting"
   ]
  },
  {
   "cell_type": "code",
   "execution_count": 37,
   "id": "IQHGOnxwFPfG",
   "metadata": {
    "executionInfo": {
     "elapsed": 7,
     "status": "ok",
     "timestamp": 1680973094242,
     "user": {
      "displayName": "Artem Rakhlevskii",
      "userId": "03344283083967930388"
     },
     "user_tz": -180
    },
    "id": "IQHGOnxwFPfG"
   },
   "outputs": [],
   "source": [
    "numeric_features = ['year', 'mileage', 'tax_new', 'mpg', 'engineSize']"
   ]
  },
  {
   "cell_type": "code",
   "execution_count": 38,
   "id": "rzkK5BhPIPfi",
   "metadata": {
    "executionInfo": {
     "elapsed": 421,
     "status": "ok",
     "timestamp": 1680973095656,
     "user": {
      "displayName": "Artem Rakhlevskii",
      "userId": "03344283083967930388"
     },
     "user_tz": -180
    },
    "id": "rzkK5BhPIPfi"
   },
   "outputs": [],
   "source": [
    "iqr=scipy.stats.iqr(train[train['sample']=='train'][numeric_features], axis=0)\n",
    "q1=np.quantile(train[train['sample']=='train'][numeric_features], .25, axis=0)\n",
    "q3=np.quantile(train[train['sample']=='train'][numeric_features], .75, axis=0)"
   ]
  },
  {
   "cell_type": "code",
   "execution_count": 39,
   "id": "uhQ1HEzlLtuM",
   "metadata": {
    "executionInfo": {
     "elapsed": 73,
     "status": "ok",
     "timestamp": 1680973095661,
     "user": {
      "displayName": "Artem Rakhlevskii",
      "userId": "03344283083967930388"
     },
     "user_tz": -180
    },
    "id": "uhQ1HEzlLtuM"
   },
   "outputs": [],
   "source": [
    "# для удаления аутлайров границы\n",
    "boundaries=[]\n",
    "boundaries.append([*(q1-2.3*iqr)])\n",
    "boundaries.append([*(q3+2.3*iqr)])\n",
    "outliers_remedy=pd.DataFrame(boundaries, columns=numeric_features)"
   ]
  },
  {
   "cell_type": "code",
   "execution_count": 40,
   "id": "W4FpXFXjlukp",
   "metadata": {
    "colab": {
     "base_uri": "https://localhost:8080/",
     "height": 112
    },
    "executionInfo": {
     "elapsed": 74,
     "status": "ok",
     "timestamp": 1680973095662,
     "user": {
      "displayName": "Artem Rakhlevskii",
      "userId": "03344283083967930388"
     },
     "user_tz": -180
    },
    "id": "W4FpXFXjlukp",
    "outputId": "daaaa1bc-df7f-498b-b03f-efe8da3d34b7"
   },
   "outputs": [
    {
     "data": {
      "text/html": [
       "<div>\n",
       "<style scoped>\n",
       "    .dataframe tbody tr th:only-of-type {\n",
       "        vertical-align: middle;\n",
       "    }\n",
       "\n",
       "    .dataframe tbody tr th {\n",
       "        vertical-align: top;\n",
       "    }\n",
       "\n",
       "    .dataframe thead th {\n",
       "        text-align: right;\n",
       "    }\n",
       "</style>\n",
       "<table border=\"1\" class=\"dataframe\">\n",
       "  <thead>\n",
       "    <tr style=\"text-align: right;\">\n",
       "      <th></th>\n",
       "      <th>year</th>\n",
       "      <th>mileage</th>\n",
       "      <th>tax_new</th>\n",
       "      <th>mpg</th>\n",
       "      <th>engineSize</th>\n",
       "    </tr>\n",
       "  </thead>\n",
       "  <tbody>\n",
       "    <tr>\n",
       "      <th>0</th>\n",
       "      <td>2009.1</td>\n",
       "      <td>-49508.2</td>\n",
       "      <td>79.0</td>\n",
       "      <td>14.21</td>\n",
       "      <td>-0.64</td>\n",
       "    </tr>\n",
       "    <tr>\n",
       "      <th>1</th>\n",
       "      <td>2025.9</td>\n",
       "      <td>89240.2</td>\n",
       "      <td>191.0</td>\n",
       "      <td>94.29</td>\n",
       "      <td>3.84</td>\n",
       "    </tr>\n",
       "  </tbody>\n",
       "</table>\n",
       "</div>"
      ],
      "text/plain": [
       "     year  mileage  tax_new    mpg  engineSize\n",
       "0  2009.1 -49508.2     79.0  14.21       -0.64\n",
       "1  2025.9  89240.2    191.0  94.29        3.84"
      ]
     },
     "execution_count": 40,
     "metadata": {},
     "output_type": "execute_result"
    }
   ],
   "source": [
    "outliers_remedy"
   ]
  },
  {
   "cell_type": "code",
   "execution_count": 41,
   "id": "RdhUVnQtJ8Vc",
   "metadata": {
    "colab": {
     "base_uri": "https://localhost:8080/",
     "height": 301
    },
    "executionInfo": {
     "elapsed": 71,
     "status": "ok",
     "timestamp": 1680973095663,
     "user": {
      "displayName": "Artem Rakhlevskii",
      "userId": "03344283083967930388"
     },
     "user_tz": -180
    },
    "id": "RdhUVnQtJ8Vc",
    "outputId": "03d2a04b-ad6f-4955-f54c-a2d464485a78"
   },
   "outputs": [
    {
     "data": {
      "text/html": [
       "<div>\n",
       "<style scoped>\n",
       "    .dataframe tbody tr th:only-of-type {\n",
       "        vertical-align: middle;\n",
       "    }\n",
       "\n",
       "    .dataframe tbody tr th {\n",
       "        vertical-align: top;\n",
       "    }\n",
       "\n",
       "    .dataframe thead th {\n",
       "        text-align: right;\n",
       "    }\n",
       "</style>\n",
       "<table border=\"1\" class=\"dataframe\">\n",
       "  <thead>\n",
       "    <tr style=\"text-align: right;\">\n",
       "      <th></th>\n",
       "      <th>year</th>\n",
       "      <th>mileage</th>\n",
       "      <th>tax_new</th>\n",
       "      <th>mpg</th>\n",
       "      <th>engineSize</th>\n",
       "    </tr>\n",
       "  </thead>\n",
       "  <tbody>\n",
       "    <tr>\n",
       "      <th>count</th>\n",
       "      <td>98948.000000</td>\n",
       "      <td>98948.000000</td>\n",
       "      <td>98948.000000</td>\n",
       "      <td>98948.000000</td>\n",
       "      <td>98948.000000</td>\n",
       "    </tr>\n",
       "    <tr>\n",
       "      <th>mean</th>\n",
       "      <td>2017.095323</td>\n",
       "      <td>23038.666825</td>\n",
       "      <td>122.406719</td>\n",
       "      <td>55.096300</td>\n",
       "      <td>1.661181</td>\n",
       "    </tr>\n",
       "    <tr>\n",
       "      <th>std</th>\n",
       "      <td>2.138052</td>\n",
       "      <td>21213.115680</td>\n",
       "      <td>60.837794</td>\n",
       "      <td>15.391497</td>\n",
       "      <td>0.556509</td>\n",
       "    </tr>\n",
       "    <tr>\n",
       "      <th>min</th>\n",
       "      <td>1970.000000</td>\n",
       "      <td>1.000000</td>\n",
       "      <td>0.000000</td>\n",
       "      <td>0.300000</td>\n",
       "      <td>0.000000</td>\n",
       "    </tr>\n",
       "    <tr>\n",
       "      <th>25%</th>\n",
       "      <td>2016.000000</td>\n",
       "      <td>7477.750000</td>\n",
       "      <td>125.000000</td>\n",
       "      <td>47.100000</td>\n",
       "      <td>1.200000</td>\n",
       "    </tr>\n",
       "    <tr>\n",
       "      <th>50%</th>\n",
       "      <td>2017.000000</td>\n",
       "      <td>17289.500000</td>\n",
       "      <td>145.000000</td>\n",
       "      <td>54.300000</td>\n",
       "      <td>1.600000</td>\n",
       "    </tr>\n",
       "    <tr>\n",
       "      <th>75%</th>\n",
       "      <td>2019.000000</td>\n",
       "      <td>32254.250000</td>\n",
       "      <td>145.000000</td>\n",
       "      <td>61.400000</td>\n",
       "      <td>2.000000</td>\n",
       "    </tr>\n",
       "    <tr>\n",
       "      <th>max</th>\n",
       "      <td>2060.000000</td>\n",
       "      <td>323000.000000</td>\n",
       "      <td>580.000000</td>\n",
       "      <td>470.800000</td>\n",
       "      <td>6.600000</td>\n",
       "    </tr>\n",
       "  </tbody>\n",
       "</table>\n",
       "</div>"
      ],
      "text/plain": [
       "               year        mileage       tax_new           mpg    engineSize\n",
       "count  98948.000000   98948.000000  98948.000000  98948.000000  98948.000000\n",
       "mean    2017.095323   23038.666825    122.406719     55.096300      1.661181\n",
       "std        2.138052   21213.115680     60.837794     15.391497      0.556509\n",
       "min     1970.000000       1.000000      0.000000      0.300000      0.000000\n",
       "25%     2016.000000    7477.750000    125.000000     47.100000      1.200000\n",
       "50%     2017.000000   17289.500000    145.000000     54.300000      1.600000\n",
       "75%     2019.000000   32254.250000    145.000000     61.400000      2.000000\n",
       "max     2060.000000  323000.000000    580.000000    470.800000      6.600000"
      ]
     },
     "execution_count": 41,
     "metadata": {},
     "output_type": "execute_result"
    }
   ],
   "source": [
    "# лучше удалить аутлайеры, но только в train_sample!\n",
    "train[train['sample']=='train'][numeric_features].describe()"
   ]
  },
  {
   "cell_type": "code",
   "execution_count": 42,
   "id": "gsrMi_memDB2",
   "metadata": {
    "executionInfo": {
     "elapsed": 70,
     "status": "ok",
     "timestamp": 1680973095664,
     "user": {
      "displayName": "Artem Rakhlevskii",
      "userId": "03344283083967930388"
     },
     "user_tz": -180
    },
    "id": "gsrMi_memDB2"
   },
   "outputs": [],
   "source": [
    "# удаляю\n",
    "train_train = train[train['sample']=='train']"
   ]
  },
  {
   "cell_type": "code",
   "execution_count": 43,
   "id": "p5gz8dLuFPjk",
   "metadata": {
    "executionInfo": {
     "elapsed": 70,
     "status": "ok",
     "timestamp": 1680973095665,
     "user": {
      "displayName": "Artem Rakhlevskii",
      "userId": "03344283083967930388"
     },
     "user_tz": -180
    },
    "id": "p5gz8dLuFPjk"
   },
   "outputs": [],
   "source": [
    "train_train=train_train[(train_train.year >= outliers_remedy.year[0]) & (train_train.year <= outliers_remedy.year[1])]"
   ]
  },
  {
   "cell_type": "code",
   "execution_count": 44,
   "id": "ZIhMyohoMyNV",
   "metadata": {
    "executionInfo": {
     "elapsed": 71,
     "status": "ok",
     "timestamp": 1680973095666,
     "user": {
      "displayName": "Artem Rakhlevskii",
      "userId": "03344283083967930388"
     },
     "user_tz": -180
    },
    "id": "ZIhMyohoMyNV"
   },
   "outputs": [],
   "source": [
    "train_train=train_train[(train_train.mileage >= outliers_remedy.mileage[0]) & (train_train.mileage <= outliers_remedy.mileage[1])]"
   ]
  },
  {
   "cell_type": "code",
   "execution_count": 45,
   "id": "5aKEF5DtM9rm",
   "metadata": {
    "executionInfo": {
     "elapsed": 71,
     "status": "ok",
     "timestamp": 1680973095667,
     "user": {
      "displayName": "Artem Rakhlevskii",
      "userId": "03344283083967930388"
     },
     "user_tz": -180
    },
    "id": "5aKEF5DtM9rm"
   },
   "outputs": [],
   "source": [
    "train_train=train_train[(train_train.tax_new >= outliers_remedy.tax_new[0]) & (train_train.tax_new <= outliers_remedy.tax_new[1])]"
   ]
  },
  {
   "cell_type": "code",
   "execution_count": 46,
   "id": "bSbFyPY_NETQ",
   "metadata": {
    "executionInfo": {
     "elapsed": 73,
     "status": "ok",
     "timestamp": 1680973095669,
     "user": {
      "displayName": "Artem Rakhlevskii",
      "userId": "03344283083967930388"
     },
     "user_tz": -180
    },
    "id": "bSbFyPY_NETQ"
   },
   "outputs": [],
   "source": [
    "train_train=train_train[(train_train.mpg >= outliers_remedy.mpg[0]) & (train_train.mpg <= outliers_remedy.mpg[1])]"
   ]
  },
  {
   "cell_type": "code",
   "execution_count": 47,
   "id": "ZxfGSetuNOCT",
   "metadata": {
    "executionInfo": {
     "elapsed": 72,
     "status": "ok",
     "timestamp": 1680973095669,
     "user": {
      "displayName": "Artem Rakhlevskii",
      "userId": "03344283083967930388"
     },
     "user_tz": -180
    },
    "id": "ZxfGSetuNOCT"
   },
   "outputs": [],
   "source": [
    "train_train=train_train[(train_train.engineSize >= outliers_remedy.engineSize[0]) & (train_train.engineSize <= outliers_remedy.engineSize[1])]"
   ]
  },
  {
   "cell_type": "code",
   "execution_count": 48,
   "id": "c8adf0d1",
   "metadata": {},
   "outputs": [],
   "source": [
    "sub = train[train['sample']=='train']\n",
    "sub.loc[sub.engineSize<0.6, 'engineSize'] = sub.engineSize.median()\n",
    "train = pd.concat([sub, train[train['sample']=='test']], axis=0, ignore_index=True)"
   ]
  },
  {
   "cell_type": "code",
   "execution_count": 49,
   "id": "91d98302",
   "metadata": {},
   "outputs": [],
   "source": [
    "sub1 = train[train['sample']=='train']\n",
    "sub1.loc[sub1.mileage<1500, 'mileage'] = sub1.mileage.median()\n",
    "train = pd.concat([sub1, train[train['sample']=='test']], axis=0, ignore_index=True)"
   ]
  },
  {
   "cell_type": "code",
   "execution_count": 50,
   "id": "eMZoYQLRNTP4",
   "metadata": {
    "colab": {
     "base_uri": "https://localhost:8080/",
     "height": 301
    },
    "executionInfo": {
     "elapsed": 72,
     "status": "ok",
     "timestamp": 1680973095670,
     "user": {
      "displayName": "Artem Rakhlevskii",
      "userId": "03344283083967930388"
     },
     "user_tz": -180
    },
    "id": "eMZoYQLRNTP4",
    "outputId": "c4e46742-7284-4378-882e-78fe847160ad"
   },
   "outputs": [
    {
     "data": {
      "text/html": [
       "<div>\n",
       "<style scoped>\n",
       "    .dataframe tbody tr th:only-of-type {\n",
       "        vertical-align: middle;\n",
       "    }\n",
       "\n",
       "    .dataframe tbody tr th {\n",
       "        vertical-align: top;\n",
       "    }\n",
       "\n",
       "    .dataframe thead th {\n",
       "        text-align: right;\n",
       "    }\n",
       "</style>\n",
       "<table border=\"1\" class=\"dataframe\">\n",
       "  <thead>\n",
       "    <tr style=\"text-align: right;\">\n",
       "      <th></th>\n",
       "      <th>year</th>\n",
       "      <th>mileage</th>\n",
       "      <th>tax_new</th>\n",
       "      <th>mpg</th>\n",
       "      <th>engineSize</th>\n",
       "    </tr>\n",
       "  </thead>\n",
       "  <tbody>\n",
       "    <tr>\n",
       "      <th>count</th>\n",
       "      <td>71164.000000</td>\n",
       "      <td>71164.000000</td>\n",
       "      <td>71164.000000</td>\n",
       "      <td>71164.000000</td>\n",
       "      <td>71164.000000</td>\n",
       "    </tr>\n",
       "    <tr>\n",
       "      <th>mean</th>\n",
       "      <td>2017.796414</td>\n",
       "      <td>16910.916980</td>\n",
       "      <td>144.423585</td>\n",
       "      <td>52.458637</td>\n",
       "      <td>1.643268</td>\n",
       "    </tr>\n",
       "    <tr>\n",
       "      <th>std</th>\n",
       "      <td>1.591428</td>\n",
       "      <td>15694.679137</td>\n",
       "      <td>6.848933</td>\n",
       "      <td>9.431533</td>\n",
       "      <td>0.510054</td>\n",
       "    </tr>\n",
       "    <tr>\n",
       "      <th>min</th>\n",
       "      <td>2010.000000</td>\n",
       "      <td>1.000000</td>\n",
       "      <td>110.000000</td>\n",
       "      <td>24.800000</td>\n",
       "      <td>0.000000</td>\n",
       "    </tr>\n",
       "    <tr>\n",
       "      <th>25%</th>\n",
       "      <td>2017.000000</td>\n",
       "      <td>5260.750000</td>\n",
       "      <td>145.000000</td>\n",
       "      <td>47.100000</td>\n",
       "      <td>1.200000</td>\n",
       "    </tr>\n",
       "    <tr>\n",
       "      <th>50%</th>\n",
       "      <td>2018.000000</td>\n",
       "      <td>12431.500000</td>\n",
       "      <td>145.000000</td>\n",
       "      <td>53.300000</td>\n",
       "      <td>1.500000</td>\n",
       "    </tr>\n",
       "    <tr>\n",
       "      <th>75%</th>\n",
       "      <td>2019.000000</td>\n",
       "      <td>23840.000000</td>\n",
       "      <td>145.000000</td>\n",
       "      <td>57.700000</td>\n",
       "      <td>2.000000</td>\n",
       "    </tr>\n",
       "    <tr>\n",
       "      <th>max</th>\n",
       "      <td>2020.000000</td>\n",
       "      <td>89232.000000</td>\n",
       "      <td>190.000000</td>\n",
       "      <td>94.100000</td>\n",
       "      <td>3.500000</td>\n",
       "    </tr>\n",
       "  </tbody>\n",
       "</table>\n",
       "</div>"
      ],
      "text/plain": [
       "               year       mileage       tax_new           mpg    engineSize\n",
       "count  71164.000000  71164.000000  71164.000000  71164.000000  71164.000000\n",
       "mean    2017.796414  16910.916980    144.423585     52.458637      1.643268\n",
       "std        1.591428  15694.679137      6.848933      9.431533      0.510054\n",
       "min     2010.000000      1.000000    110.000000     24.800000      0.000000\n",
       "25%     2017.000000   5260.750000    145.000000     47.100000      1.200000\n",
       "50%     2018.000000  12431.500000    145.000000     53.300000      1.500000\n",
       "75%     2019.000000  23840.000000    145.000000     57.700000      2.000000\n",
       "max     2020.000000  89232.000000    190.000000     94.100000      3.500000"
      ]
     },
     "execution_count": 50,
     "metadata": {},
     "output_type": "execute_result"
    }
   ],
   "source": [
    "train_train[numeric_features].describe()"
   ]
  },
  {
   "cell_type": "code",
   "execution_count": 51,
   "id": "ACBOXNOWOkMz",
   "metadata": {
    "colab": {
     "base_uri": "https://localhost:8080/"
    },
    "executionInfo": {
     "elapsed": 72,
     "status": "ok",
     "timestamp": 1680973095671,
     "user": {
      "displayName": "Artem Rakhlevskii",
      "userId": "03344283083967930388"
     },
     "user_tz": -180
    },
    "id": "ACBOXNOWOkMz",
    "outputId": "d0769a3f-68fd-4e12-e669-53003b412513"
   },
   "outputs": [
    {
     "name": "stdout",
     "output_type": "stream",
     "text": [
      "<class 'pandas.core.frame.DataFrame'>\n",
      "RangeIndex: 108526 entries, 0 to 108525\n",
      "Data columns (total 31 columns):\n",
      " #   Column                  Non-Null Count   Dtype  \n",
      "---  ------                  --------------   -----  \n",
      " 0   id                      108526 non-null  int64  \n",
      " 1   model                   108526 non-null  object \n",
      " 2   year                    108526 non-null  int64  \n",
      " 3   mileage                 108526 non-null  float64\n",
      " 4   mpg                     108526 non-null  float64\n",
      " 5   engineSize              108526 non-null  float64\n",
      " 6   price                   98948 non-null   float64\n",
      " 7   sample                  108526 non-null  object \n",
      " 8   year_flg                108526 non-null  int32  \n",
      " 9   mpg_flg                 108526 non-null  int32  \n",
      " 10  brand_Hyundai           108526 non-null  uint8  \n",
      " 11  brand_Mercedes-Benz     108526 non-null  uint8  \n",
      " 12  brand_audi              108526 non-null  uint8  \n",
      " 13  brand_bmw               108526 non-null  uint8  \n",
      " 14  brand_focus             108526 non-null  uint8  \n",
      " 15  brand_ford              108526 non-null  uint8  \n",
      " 16  brand_skoda             108526 non-null  uint8  \n",
      " 17  brand_toyota            108526 non-null  uint8  \n",
      " 18  brand_vauxhall          108526 non-null  uint8  \n",
      " 19  brand_vw                108526 non-null  uint8  \n",
      " 20  transmission_Automatic  108526 non-null  uint8  \n",
      " 21  transmission_Manual     108526 non-null  uint8  \n",
      " 22  transmission_Other      108526 non-null  uint8  \n",
      " 23  transmission_Semi-Auto  108526 non-null  uint8  \n",
      " 24  fuelType_Diesel         108526 non-null  uint8  \n",
      " 25  fuelType_Electric       108526 non-null  uint8  \n",
      " 26  fuelType_Hybrid         108526 non-null  uint8  \n",
      " 27  fuelType_Other          108526 non-null  uint8  \n",
      " 28  fuelType_Petrol         108526 non-null  uint8  \n",
      " 29  tax_new                 108526 non-null  float64\n",
      " 30  tax_flg                 108526 non-null  int32  \n",
      "dtypes: float64(5), int32(3), int64(2), object(2), uint8(19)\n",
      "memory usage: 10.7+ MB\n"
     ]
    }
   ],
   "source": [
    "train.info()"
   ]
  },
  {
   "cell_type": "code",
   "execution_count": 52,
   "id": "jz3QcCZTms96",
   "metadata": {
    "executionInfo": {
     "elapsed": 71,
     "status": "ok",
     "timestamp": 1680973095673,
     "user": {
      "displayName": "Artem Rakhlevskii",
      "userId": "03344283083967930388"
     },
     "user_tz": -180
    },
    "id": "jz3QcCZTms96"
   },
   "outputs": [],
   "source": [
    "train = pd.concat([train_train, train[train['sample']=='test']], axis=0, ignore_index=True)"
   ]
  },
  {
   "cell_type": "code",
   "execution_count": 53,
   "id": "7TrGWAqPU--b",
   "metadata": {
    "colab": {
     "base_uri": "https://localhost:8080/"
    },
    "executionInfo": {
     "elapsed": 39,
     "status": "ok",
     "timestamp": 1680973106848,
     "user": {
      "displayName": "Artem Rakhlevskii",
      "userId": "03344283083967930388"
     },
     "user_tz": -180
    },
    "id": "7TrGWAqPU--b",
    "outputId": "f3fe114b-490d-4ded-a158-8b9066b3147b"
   },
   "outputs": [
    {
     "name": "stdout",
     "output_type": "stream",
     "text": [
      "\n",
      " --- The Spearman rank correlation coefficient ---\n",
      "                value\n",
      "Rho             0.038\n",
      "T-test p-value  0.000\n"
     ]
    }
   ],
   "source": [
    "# check te significance of reation between price and tax_new, price and engineSize\n",
    "import scipy.stats as stats\n",
    "Sp_test = pd.DataFrame(stats.spearmanr(train[train['sample']=='train']['price'], train[train['sample']=='train']['tax_new']), columns=['value'], \n",
    "                           index=['Rho', 'T-test p-value'])\n",
    "\n",
    "print('\\n --- The Spearman rank correlation coefficient ---')\n",
    "print(round(Sp_test, 3))"
   ]
  },
  {
   "cell_type": "code",
   "execution_count": 54,
   "id": "nStiP9Z8WX9a",
   "metadata": {
    "colab": {
     "base_uri": "https://localhost:8080/"
    },
    "executionInfo": {
     "elapsed": 38,
     "status": "ok",
     "timestamp": 1680973106849,
     "user": {
      "displayName": "Artem Rakhlevskii",
      "userId": "03344283083967930388"
     },
     "user_tz": -180
    },
    "id": "nStiP9Z8WX9a",
    "outputId": "6f46f8dd-f5d8-468b-8672-f118e7fc6ad7"
   },
   "outputs": [
    {
     "name": "stdout",
     "output_type": "stream",
     "text": [
      "\n",
      " --- The Spearman rank correlation coefficient ---\n",
      "                value\n",
      "Rho             0.626\n",
      "T-test p-value  0.000\n"
     ]
    }
   ],
   "source": [
    "Sp_test = pd.DataFrame(stats.spearmanr(train[train['sample']=='train']['price'], train[train['sample']=='train']['engineSize']), columns=['value'], \n",
    "                           index=['Rho', 'T-test p-value'])\n",
    "\n",
    "print('\\n --- The Spearman rank correlation coefficient ---')\n",
    "print(round(Sp_test, 3))"
   ]
  },
  {
   "cell_type": "code",
   "execution_count": 55,
   "id": "mt0K6TkscXhd",
   "metadata": {
    "colab": {
     "base_uri": "https://localhost:8080/"
    },
    "executionInfo": {
     "elapsed": 37,
     "status": "ok",
     "timestamp": 1680973106849,
     "user": {
      "displayName": "Artem Rakhlevskii",
      "userId": "03344283083967930388"
     },
     "user_tz": -180
    },
    "id": "mt0K6TkscXhd",
    "outputId": "55928d92-752e-4e5b-db9d-bb0f04da4bd5"
   },
   "outputs": [
    {
     "name": "stdout",
     "output_type": "stream",
     "text": [
      "<class 'pandas.core.frame.DataFrame'>\n",
      "RangeIndex: 80742 entries, 0 to 80741\n",
      "Data columns (total 31 columns):\n",
      " #   Column                  Non-Null Count  Dtype  \n",
      "---  ------                  --------------  -----  \n",
      " 0   id                      80742 non-null  int64  \n",
      " 1   model                   80742 non-null  object \n",
      " 2   year                    80742 non-null  int64  \n",
      " 3   mileage                 80742 non-null  float64\n",
      " 4   mpg                     80742 non-null  float64\n",
      " 5   engineSize              80742 non-null  float64\n",
      " 6   price                   71164 non-null  float64\n",
      " 7   sample                  80742 non-null  object \n",
      " 8   year_flg                80742 non-null  int32  \n",
      " 9   mpg_flg                 80742 non-null  int32  \n",
      " 10  brand_Hyundai           80742 non-null  uint8  \n",
      " 11  brand_Mercedes-Benz     80742 non-null  uint8  \n",
      " 12  brand_audi              80742 non-null  uint8  \n",
      " 13  brand_bmw               80742 non-null  uint8  \n",
      " 14  brand_focus             80742 non-null  uint8  \n",
      " 15  brand_ford              80742 non-null  uint8  \n",
      " 16  brand_skoda             80742 non-null  uint8  \n",
      " 17  brand_toyota            80742 non-null  uint8  \n",
      " 18  brand_vauxhall          80742 non-null  uint8  \n",
      " 19  brand_vw                80742 non-null  uint8  \n",
      " 20  transmission_Automatic  80742 non-null  uint8  \n",
      " 21  transmission_Manual     80742 non-null  uint8  \n",
      " 22  transmission_Other      80742 non-null  uint8  \n",
      " 23  transmission_Semi-Auto  80742 non-null  uint8  \n",
      " 24  fuelType_Diesel         80742 non-null  uint8  \n",
      " 25  fuelType_Electric       80742 non-null  uint8  \n",
      " 26  fuelType_Hybrid         80742 non-null  uint8  \n",
      " 27  fuelType_Other          80742 non-null  uint8  \n",
      " 28  fuelType_Petrol         80742 non-null  uint8  \n",
      " 29  tax_new                 80742 non-null  float64\n",
      " 30  tax_flg                 80742 non-null  int32  \n",
      "dtypes: float64(5), int32(3), int64(2), object(2), uint8(19)\n",
      "memory usage: 7.9+ MB\n"
     ]
    }
   ],
   "source": [
    "train.info()"
   ]
  },
  {
   "cell_type": "markdown",
   "id": "hJouolN9Whed",
   "metadata": {
    "id": "hJouolN9Whed"
   },
   "source": [
    "Tax_new надо исключать - некоррелирован с Price"
   ]
  },
  {
   "cell_type": "markdown",
   "id": "RV7eesu6fEEK",
   "metadata": {
    "id": "RV7eesu6fEEK"
   },
   "source": [
    "### Preprocessing"
   ]
  },
  {
   "cell_type": "code",
   "execution_count": 56,
   "id": "6AV4Ag-RfL8u",
   "metadata": {
    "colab": {
     "base_uri": "https://localhost:8080/"
    },
    "executionInfo": {
     "elapsed": 7,
     "status": "ok",
     "timestamp": 1680973119800,
     "user": {
      "displayName": "Artem Rakhlevskii",
      "userId": "03344283083967930388"
     },
     "user_tz": -180
    },
    "id": "6AV4Ag-RfL8u",
    "outputId": "e34ff316-d0d2-4fef-ce99-8782a38c8075"
   },
   "outputs": [
    {
     "data": {
      "text/plain": [
       "['brand', 'transmission', 'fuelType']"
      ]
     },
     "execution_count": 56,
     "metadata": {},
     "output_type": "execute_result"
    }
   ],
   "source": [
    "cat_features"
   ]
  },
  {
   "cell_type": "code",
   "execution_count": 57,
   "id": "w77fak7lfIxE",
   "metadata": {
    "executionInfo": {
     "elapsed": 396,
     "status": "ok",
     "timestamp": 1680973121938,
     "user": {
      "displayName": "Artem Rakhlevskii",
      "userId": "03344283083967930388"
     },
     "user_tz": -180
    },
    "id": "w77fak7lfIxE"
   },
   "outputs": [],
   "source": [
    "\n",
    "from sklearn import preprocessing\n",
    "import pandas as pd\n",
    "le = preprocessing.LabelEncoder()\n",
    "\n",
    "train.model=train[['model']].apply(le.fit_transform)"
   ]
  },
  {
   "cell_type": "code",
   "execution_count": 58,
   "id": "314fb7fd",
   "metadata": {},
   "outputs": [],
   "source": [
    "#train = pd.get_dummies(train, columns=['model'])\n",
    "#train.head()"
   ]
  },
  {
   "cell_type": "code",
   "execution_count": 59,
   "id": "rXfRafyCf7EV",
   "metadata": {
    "colab": {
     "base_uri": "https://localhost:8080/"
    },
    "executionInfo": {
     "elapsed": 13,
     "status": "ok",
     "timestamp": 1680973124013,
     "user": {
      "displayName": "Artem Rakhlevskii",
      "userId": "03344283083967930388"
     },
     "user_tz": -180
    },
    "id": "rXfRafyCf7EV",
    "outputId": "2f210b2e-4abd-4231-93a7-e0825b6c7052"
   },
   "outputs": [
    {
     "name": "stdout",
     "output_type": "stream",
     "text": [
      "<class 'pandas.core.frame.DataFrame'>\n",
      "RangeIndex: 80742 entries, 0 to 80741\n",
      "Data columns (total 31 columns):\n",
      " #   Column                  Non-Null Count  Dtype  \n",
      "---  ------                  --------------  -----  \n",
      " 0   id                      80742 non-null  int64  \n",
      " 1   model                   80742 non-null  int32  \n",
      " 2   year                    80742 non-null  int64  \n",
      " 3   mileage                 80742 non-null  float64\n",
      " 4   mpg                     80742 non-null  float64\n",
      " 5   engineSize              80742 non-null  float64\n",
      " 6   price                   71164 non-null  float64\n",
      " 7   sample                  80742 non-null  object \n",
      " 8   year_flg                80742 non-null  int32  \n",
      " 9   mpg_flg                 80742 non-null  int32  \n",
      " 10  brand_Hyundai           80742 non-null  uint8  \n",
      " 11  brand_Mercedes-Benz     80742 non-null  uint8  \n",
      " 12  brand_audi              80742 non-null  uint8  \n",
      " 13  brand_bmw               80742 non-null  uint8  \n",
      " 14  brand_focus             80742 non-null  uint8  \n",
      " 15  brand_ford              80742 non-null  uint8  \n",
      " 16  brand_skoda             80742 non-null  uint8  \n",
      " 17  brand_toyota            80742 non-null  uint8  \n",
      " 18  brand_vauxhall          80742 non-null  uint8  \n",
      " 19  brand_vw                80742 non-null  uint8  \n",
      " 20  transmission_Automatic  80742 non-null  uint8  \n",
      " 21  transmission_Manual     80742 non-null  uint8  \n",
      " 22  transmission_Other      80742 non-null  uint8  \n",
      " 23  transmission_Semi-Auto  80742 non-null  uint8  \n",
      " 24  fuelType_Diesel         80742 non-null  uint8  \n",
      " 25  fuelType_Electric       80742 non-null  uint8  \n",
      " 26  fuelType_Hybrid         80742 non-null  uint8  \n",
      " 27  fuelType_Other          80742 non-null  uint8  \n",
      " 28  fuelType_Petrol         80742 non-null  uint8  \n",
      " 29  tax_new                 80742 non-null  float64\n",
      " 30  tax_flg                 80742 non-null  int32  \n",
      "dtypes: float64(5), int32(4), int64(2), object(1), uint8(19)\n",
      "memory usage: 7.6+ MB\n"
     ]
    }
   ],
   "source": [
    "train.info()"
   ]
  },
  {
   "cell_type": "code",
   "execution_count": 60,
   "id": "otHmAsKIvQmt",
   "metadata": {
    "executionInfo": {
     "elapsed": 229,
     "status": "ok",
     "timestamp": 1680973128645,
     "user": {
      "displayName": "Artem Rakhlevskii",
      "userId": "03344283083967930388"
     },
     "user_tz": -180
    },
    "id": "otHmAsKIvQmt"
   },
   "outputs": [],
   "source": [
    "train['age'] = 2021-train.year"
   ]
  },
  {
   "cell_type": "code",
   "execution_count": 61,
   "id": "x43A7rpxvcYO",
   "metadata": {
    "colab": {
     "base_uri": "https://localhost:8080/",
     "height": 505
    },
    "executionInfo": {
     "elapsed": 318,
     "status": "ok",
     "timestamp": 1680973147514,
     "user": {
      "displayName": "Artem Rakhlevskii",
      "userId": "03344283083967930388"
     },
     "user_tz": -180
    },
    "id": "x43A7rpxvcYO",
    "outputId": "4660372c-f591-4d09-b1af-6fc434acd61c"
   },
   "outputs": [
    {
     "data": {
      "text/html": [
       "<div>\n",
       "<style scoped>\n",
       "    .dataframe tbody tr th:only-of-type {\n",
       "        vertical-align: middle;\n",
       "    }\n",
       "\n",
       "    .dataframe tbody tr th {\n",
       "        vertical-align: top;\n",
       "    }\n",
       "\n",
       "    .dataframe thead th {\n",
       "        text-align: right;\n",
       "    }\n",
       "</style>\n",
       "<table border=\"1\" class=\"dataframe\">\n",
       "  <thead>\n",
       "    <tr style=\"text-align: right;\">\n",
       "      <th></th>\n",
       "      <th>id</th>\n",
       "      <th>model</th>\n",
       "      <th>year</th>\n",
       "      <th>mileage</th>\n",
       "      <th>mpg</th>\n",
       "      <th>engineSize</th>\n",
       "      <th>price</th>\n",
       "      <th>sample</th>\n",
       "      <th>year_flg</th>\n",
       "      <th>mpg_flg</th>\n",
       "      <th>...</th>\n",
       "      <th>transmission_Other</th>\n",
       "      <th>transmission_Semi-Auto</th>\n",
       "      <th>fuelType_Diesel</th>\n",
       "      <th>fuelType_Electric</th>\n",
       "      <th>fuelType_Hybrid</th>\n",
       "      <th>fuelType_Other</th>\n",
       "      <th>fuelType_Petrol</th>\n",
       "      <th>tax_new</th>\n",
       "      <th>tax_flg</th>\n",
       "      <th>age</th>\n",
       "    </tr>\n",
       "  </thead>\n",
       "  <tbody>\n",
       "    <tr>\n",
       "      <th>0</th>\n",
       "      <td>1</td>\n",
       "      <td>54</td>\n",
       "      <td>2017</td>\n",
       "      <td>26973.0</td>\n",
       "      <td>57.7</td>\n",
       "      <td>1.0</td>\n",
       "      <td>11999.0</td>\n",
       "      <td>train</td>\n",
       "      <td>1</td>\n",
       "      <td>1</td>\n",
       "      <td>...</td>\n",
       "      <td>0</td>\n",
       "      <td>0</td>\n",
       "      <td>0</td>\n",
       "      <td>0</td>\n",
       "      <td>0</td>\n",
       "      <td>0</td>\n",
       "      <td>1</td>\n",
       "      <td>145.0</td>\n",
       "      <td>1</td>\n",
       "      <td>4</td>\n",
       "    </tr>\n",
       "    <tr>\n",
       "      <th>1</th>\n",
       "      <td>2</td>\n",
       "      <td>8</td>\n",
       "      <td>2019</td>\n",
       "      <td>2078.0</td>\n",
       "      <td>47.1</td>\n",
       "      <td>1.3</td>\n",
       "      <td>23299.0</td>\n",
       "      <td>train</td>\n",
       "      <td>1</td>\n",
       "      <td>1</td>\n",
       "      <td>...</td>\n",
       "      <td>0</td>\n",
       "      <td>0</td>\n",
       "      <td>0</td>\n",
       "      <td>0</td>\n",
       "      <td>0</td>\n",
       "      <td>0</td>\n",
       "      <td>1</td>\n",
       "      <td>145.0</td>\n",
       "      <td>1</td>\n",
       "      <td>2</td>\n",
       "    </tr>\n",
       "    <tr>\n",
       "      <th>2</th>\n",
       "      <td>9</td>\n",
       "      <td>83</td>\n",
       "      <td>2018</td>\n",
       "      <td>11562.0</td>\n",
       "      <td>57.7</td>\n",
       "      <td>1.2</td>\n",
       "      <td>8495.0</td>\n",
       "      <td>train</td>\n",
       "      <td>1</td>\n",
       "      <td>1</td>\n",
       "      <td>...</td>\n",
       "      <td>0</td>\n",
       "      <td>0</td>\n",
       "      <td>0</td>\n",
       "      <td>0</td>\n",
       "      <td>0</td>\n",
       "      <td>0</td>\n",
       "      <td>1</td>\n",
       "      <td>145.0</td>\n",
       "      <td>1</td>\n",
       "      <td>3</td>\n",
       "    </tr>\n",
       "    <tr>\n",
       "      <th>3</th>\n",
       "      <td>10</td>\n",
       "      <td>11</td>\n",
       "      <td>2018</td>\n",
       "      <td>26796.0</td>\n",
       "      <td>44.8</td>\n",
       "      <td>2.0</td>\n",
       "      <td>24790.0</td>\n",
       "      <td>train</td>\n",
       "      <td>1</td>\n",
       "      <td>1</td>\n",
       "      <td>...</td>\n",
       "      <td>0</td>\n",
       "      <td>0</td>\n",
       "      <td>0</td>\n",
       "      <td>0</td>\n",
       "      <td>0</td>\n",
       "      <td>0</td>\n",
       "      <td>1</td>\n",
       "      <td>145.0</td>\n",
       "      <td>1</td>\n",
       "      <td>3</td>\n",
       "    </tr>\n",
       "    <tr>\n",
       "      <th>4</th>\n",
       "      <td>11</td>\n",
       "      <td>53</td>\n",
       "      <td>2019</td>\n",
       "      <td>5014.0</td>\n",
       "      <td>58.9</td>\n",
       "      <td>1.0</td>\n",
       "      <td>13495.0</td>\n",
       "      <td>train</td>\n",
       "      <td>1</td>\n",
       "      <td>1</td>\n",
       "      <td>...</td>\n",
       "      <td>0</td>\n",
       "      <td>0</td>\n",
       "      <td>0</td>\n",
       "      <td>0</td>\n",
       "      <td>0</td>\n",
       "      <td>0</td>\n",
       "      <td>1</td>\n",
       "      <td>145.0</td>\n",
       "      <td>1</td>\n",
       "      <td>2</td>\n",
       "    </tr>\n",
       "    <tr>\n",
       "      <th>...</th>\n",
       "      <td>...</td>\n",
       "      <td>...</td>\n",
       "      <td>...</td>\n",
       "      <td>...</td>\n",
       "      <td>...</td>\n",
       "      <td>...</td>\n",
       "      <td>...</td>\n",
       "      <td>...</td>\n",
       "      <td>...</td>\n",
       "      <td>...</td>\n",
       "      <td>...</td>\n",
       "      <td>...</td>\n",
       "      <td>...</td>\n",
       "      <td>...</td>\n",
       "      <td>...</td>\n",
       "      <td>...</td>\n",
       "      <td>...</td>\n",
       "      <td>...</td>\n",
       "      <td>...</td>\n",
       "      <td>...</td>\n",
       "      <td>...</td>\n",
       "    </tr>\n",
       "    <tr>\n",
       "      <th>80737</th>\n",
       "      <td>9573</td>\n",
       "      <td>99</td>\n",
       "      <td>2016</td>\n",
       "      <td>59601.0</td>\n",
       "      <td>57.7</td>\n",
       "      <td>2.0</td>\n",
       "      <td>NaN</td>\n",
       "      <td>test</td>\n",
       "      <td>1</td>\n",
       "      <td>1</td>\n",
       "      <td>...</td>\n",
       "      <td>0</td>\n",
       "      <td>1</td>\n",
       "      <td>1</td>\n",
       "      <td>0</td>\n",
       "      <td>0</td>\n",
       "      <td>0</td>\n",
       "      <td>0</td>\n",
       "      <td>125.0</td>\n",
       "      <td>1</td>\n",
       "      <td>5</td>\n",
       "    </tr>\n",
       "    <tr>\n",
       "      <th>80738</th>\n",
       "      <td>9574</td>\n",
       "      <td>10</td>\n",
       "      <td>2015</td>\n",
       "      <td>89060.0</td>\n",
       "      <td>67.3</td>\n",
       "      <td>2.0</td>\n",
       "      <td>NaN</td>\n",
       "      <td>test</td>\n",
       "      <td>1</td>\n",
       "      <td>1</td>\n",
       "      <td>...</td>\n",
       "      <td>0</td>\n",
       "      <td>0</td>\n",
       "      <td>1</td>\n",
       "      <td>0</td>\n",
       "      <td>0</td>\n",
       "      <td>0</td>\n",
       "      <td>0</td>\n",
       "      <td>30.0</td>\n",
       "      <td>1</td>\n",
       "      <td>6</td>\n",
       "    </tr>\n",
       "    <tr>\n",
       "      <th>80739</th>\n",
       "      <td>9575</td>\n",
       "      <td>104</td>\n",
       "      <td>2019</td>\n",
       "      <td>1267.0</td>\n",
       "      <td>49.6</td>\n",
       "      <td>1.0</td>\n",
       "      <td>NaN</td>\n",
       "      <td>test</td>\n",
       "      <td>1</td>\n",
       "      <td>1</td>\n",
       "      <td>...</td>\n",
       "      <td>0</td>\n",
       "      <td>0</td>\n",
       "      <td>0</td>\n",
       "      <td>0</td>\n",
       "      <td>0</td>\n",
       "      <td>0</td>\n",
       "      <td>1</td>\n",
       "      <td>150.0</td>\n",
       "      <td>1</td>\n",
       "      <td>2</td>\n",
       "    </tr>\n",
       "    <tr>\n",
       "      <th>80740</th>\n",
       "      <td>9576</td>\n",
       "      <td>66</td>\n",
       "      <td>2019</td>\n",
       "      <td>1658.0</td>\n",
       "      <td>36.2</td>\n",
       "      <td>2.0</td>\n",
       "      <td>NaN</td>\n",
       "      <td>test</td>\n",
       "      <td>1</td>\n",
       "      <td>1</td>\n",
       "      <td>...</td>\n",
       "      <td>0</td>\n",
       "      <td>1</td>\n",
       "      <td>0</td>\n",
       "      <td>0</td>\n",
       "      <td>0</td>\n",
       "      <td>0</td>\n",
       "      <td>1</td>\n",
       "      <td>145.0</td>\n",
       "      <td>1</td>\n",
       "      <td>2</td>\n",
       "    </tr>\n",
       "    <tr>\n",
       "      <th>80741</th>\n",
       "      <td>9577</td>\n",
       "      <td>88</td>\n",
       "      <td>2018</td>\n",
       "      <td>15493.0</td>\n",
       "      <td>52.3</td>\n",
       "      <td>1.0</td>\n",
       "      <td>NaN</td>\n",
       "      <td>test</td>\n",
       "      <td>1</td>\n",
       "      <td>1</td>\n",
       "      <td>...</td>\n",
       "      <td>0</td>\n",
       "      <td>0</td>\n",
       "      <td>0</td>\n",
       "      <td>0</td>\n",
       "      <td>0</td>\n",
       "      <td>0</td>\n",
       "      <td>1</td>\n",
       "      <td>145.0</td>\n",
       "      <td>0</td>\n",
       "      <td>3</td>\n",
       "    </tr>\n",
       "  </tbody>\n",
       "</table>\n",
       "<p>80742 rows × 32 columns</p>\n",
       "</div>"
      ],
      "text/plain": [
       "         id  model  year  mileage   mpg  engineSize    price sample  year_flg  \\\n",
       "0         1     54  2017  26973.0  57.7         1.0  11999.0  train         1   \n",
       "1         2      8  2019   2078.0  47.1         1.3  23299.0  train         1   \n",
       "2         9     83  2018  11562.0  57.7         1.2   8495.0  train         1   \n",
       "3        10     11  2018  26796.0  44.8         2.0  24790.0  train         1   \n",
       "4        11     53  2019   5014.0  58.9         1.0  13495.0  train         1   \n",
       "...     ...    ...   ...      ...   ...         ...      ...    ...       ...   \n",
       "80737  9573     99  2016  59601.0  57.7         2.0      NaN   test         1   \n",
       "80738  9574     10  2015  89060.0  67.3         2.0      NaN   test         1   \n",
       "80739  9575    104  2019   1267.0  49.6         1.0      NaN   test         1   \n",
       "80740  9576     66  2019   1658.0  36.2         2.0      NaN   test         1   \n",
       "80741  9577     88  2018  15493.0  52.3         1.0      NaN   test         1   \n",
       "\n",
       "       mpg_flg  ...  transmission_Other  transmission_Semi-Auto  \\\n",
       "0            1  ...                   0                       0   \n",
       "1            1  ...                   0                       0   \n",
       "2            1  ...                   0                       0   \n",
       "3            1  ...                   0                       0   \n",
       "4            1  ...                   0                       0   \n",
       "...        ...  ...                 ...                     ...   \n",
       "80737        1  ...                   0                       1   \n",
       "80738        1  ...                   0                       0   \n",
       "80739        1  ...                   0                       0   \n",
       "80740        1  ...                   0                       1   \n",
       "80741        1  ...                   0                       0   \n",
       "\n",
       "       fuelType_Diesel  fuelType_Electric  fuelType_Hybrid  fuelType_Other  \\\n",
       "0                    0                  0                0               0   \n",
       "1                    0                  0                0               0   \n",
       "2                    0                  0                0               0   \n",
       "3                    0                  0                0               0   \n",
       "4                    0                  0                0               0   \n",
       "...                ...                ...              ...             ...   \n",
       "80737                1                  0                0               0   \n",
       "80738                1                  0                0               0   \n",
       "80739                0                  0                0               0   \n",
       "80740                0                  0                0               0   \n",
       "80741                0                  0                0               0   \n",
       "\n",
       "       fuelType_Petrol  tax_new  tax_flg  age  \n",
       "0                    1    145.0        1    4  \n",
       "1                    1    145.0        1    2  \n",
       "2                    1    145.0        1    3  \n",
       "3                    1    145.0        1    3  \n",
       "4                    1    145.0        1    2  \n",
       "...                ...      ...      ...  ...  \n",
       "80737                0    125.0        1    5  \n",
       "80738                0     30.0        1    6  \n",
       "80739                1    150.0        1    2  \n",
       "80740                1    145.0        1    2  \n",
       "80741                1    145.0        0    3  \n",
       "\n",
       "[80742 rows x 32 columns]"
      ]
     },
     "execution_count": 61,
     "metadata": {},
     "output_type": "execute_result"
    }
   ],
   "source": [
    "train"
   ]
  },
  {
   "cell_type": "code",
   "execution_count": 62,
   "id": "a4a72200",
   "metadata": {},
   "outputs": [],
   "source": [
    "from sklearn.preprocessing import MinMaxScaler\n",
    "from sklearn.preprocessing import StandardScaler\n",
    "\n",
    "std_scaler = StandardScaler().fit(train[['engineSize','mpg', 'tax_new', 'age', 'mileage']])\n",
    "data_std_scaled = std_scaler.transform(train[['engineSize','mpg', 'tax_new', 'age', 'mileage']])\n",
    "\n",
    "minmax_scaler = MinMaxScaler().fit(train[['engineSize','mpg', 'tax_new', 'age', 'mileage']])\n",
    "data_minmax_scaled = minmax_scaler.transform(train[['engineSize','mpg', 'tax_new', 'age', 'mileage']])"
   ]
  },
  {
   "cell_type": "code",
   "execution_count": 63,
   "id": "06cca921",
   "metadata": {},
   "outputs": [],
   "source": [
    "train['st-ed_engineSize'] = data_std_scaled[:,0]\n",
    "train['st-ed_mpg'] = data_std_scaled[:,1]\n",
    "train['st-ed_tax_new'] = data_std_scaled[:,2]\n",
    "train['st-ed_age'] = data_std_scaled[:,3]\n",
    "train['st-ed_mileage'] = data_std_scaled[:,4]\n",
    "\n"
   ]
  },
  {
   "cell_type": "code",
   "execution_count": 64,
   "id": "13e6a815",
   "metadata": {},
   "outputs": [],
   "source": [
    "train['mileage_t1']=1/(train.mileage+1e-7)\n",
    "train['mileage_t2']=np.exp(-train.mileage+1e-7)\n",
    "train['mpg_t1']=1/train.mpg\n",
    "train['mpg_t2']=np.exp(-train.mpg)\n",
    "train['tax_new_t1']=-train.tax_new**2\n",
    "train['tax_new_t2']=-train.tax_new**2+1/(-train.tax_new**2+1e-7)\n",
    "train['age_t1']=1/(train.age)\n",
    "train['age_t2']=np.exp(-train.age)"
   ]
  },
  {
   "cell_type": "code",
   "execution_count": 65,
   "id": "HwMPifbozrJ9",
   "metadata": {
    "colab": {
     "base_uri": "https://localhost:8080/"
    },
    "executionInfo": {
     "elapsed": 12,
     "status": "ok",
     "timestamp": 1680973546762,
     "user": {
      "displayName": "Artem Rakhlevskii",
      "userId": "03344283083967930388"
     },
     "user_tz": -180
    },
    "id": "HwMPifbozrJ9",
    "outputId": "a490c379-1a47-4e14-d0b3-bb7d3bb1a73a"
   },
   "outputs": [],
   "source": [
    "from sklearn import datasets, linear_model\n",
    "from sklearn.model_selection import train_test_split\n",
    "from matplotlib import pyplot as plt\n",
    "\n",
    "y= train[train['sample']=='train']['price']\n",
    "data = train[train['sample']=='train']\n",
    "\n",
    "X = data.drop(columns=['id', 'year_flg', 'mpg_flg', 'tax_flg', 'price', 'year', 'tax_new', 'mpg', 'engineSize', 'sample',\n",
    "                       'mileage', 'age'])\n"
   ]
  },
  {
   "cell_type": "code",
   "execution_count": 66,
   "id": "maocruCT1V7F",
   "metadata": {
    "executionInfo": {
     "elapsed": 234,
     "status": "ok",
     "timestamp": 1680973598704,
     "user": {
      "displayName": "Artem Rakhlevskii",
      "userId": "03344283083967930388"
     },
     "user_tz": -180
    },
    "id": "maocruCT1V7F"
   },
   "outputs": [],
   "source": [
    "X_train, X_test, y_train, y_test = train_test_split(X, y, test_size=0.01, random_state=42)"
   ]
  },
  {
   "cell_type": "markdown",
   "id": "3YZy6lHlpqcx",
   "metadata": {
    "id": "3YZy6lHlpqcx"
   },
   "source": [
    "### Scaling"
   ]
  },
  {
   "cell_type": "code",
   "execution_count": 67,
   "id": "MgFRhJMapqyf",
   "metadata": {
    "id": "MgFRhJMapqyf"
   },
   "outputs": [],
   "source": [
    "# in order not to check the normality in distributions of out features, let us apply Min-MAx Scaler"
   ]
  },
  {
   "cell_type": "markdown",
   "id": "P_l8DhqntD_B",
   "metadata": {
    "id": "P_l8DhqntD_B"
   },
   "source": [
    "### Linear and Ridge Regression"
   ]
  },
  {
   "cell_type": "code",
   "execution_count": 68,
   "id": "7ade06c2",
   "metadata": {},
   "outputs": [
    {
     "ename": "SyntaxError",
     "evalue": "unexpected EOF while parsing (149104261.py, line 1)",
     "output_type": "error",
     "traceback": [
      "\u001b[1;36m  Input \u001b[1;32mIn [68]\u001b[1;36m\u001b[0m\n\u001b[1;33m    print(\u001b[0m\n\u001b[1;37m          ^\u001b[0m\n\u001b[1;31mSyntaxError\u001b[0m\u001b[1;31m:\u001b[0m unexpected EOF while parsing\n"
     ]
    }
   ],
   "source": [
    "print("
   ]
  },
  {
   "cell_type": "code",
   "execution_count": 80,
   "id": "375a6c81",
   "metadata": {
    "scrolled": true
   },
   "outputs": [],
   "source": [
    "from sklearn.ensemble import RandomForestRegressor\n",
    "\n",
    "regressor = RandomForestRegressor(n_estimators=100, random_state=0, max_features = 'auto', max_depth = 90, \n",
    "                                 min_samples_split = 8, min_samples_leaf =3, n_jobs =-1)\n",
    "regressor.fit(X_train, y_train)\n",
    "y_pred = regressor.predict(X_test)\n",
    "y_pred_train = regressor.predict(X_train)\n"
   ]
  },
  {
   "cell_type": "code",
   "execution_count": 81,
   "id": "dec80cd3",
   "metadata": {},
   "outputs": [
    {
     "name": "stdout",
     "output_type": "stream",
     "text": [
      "MAPE_test = 6.48877\n",
      "MAPE_train = 4.69124\n"
     ]
    }
   ],
   "source": [
    "from sklearn.linear_model import LinearRegression, Ridge\n",
    "from sklearn.metrics import mean_absolute_percentage_error as mape\n",
    "\n",
    "print(\"MAPE_test = {:.5f}\".format((mape(y_test, y_pred)*100)))\n",
    "print(\"MAPE_train = {:.5f}\".format((mape(y_train, y_pred_train)*100)))"
   ]
  },
  {
   "cell_type": "code",
   "execution_count": null,
   "id": "1b094ced",
   "metadata": {},
   "outputs": [],
   "source": [
    "depth"
   ]
  },
  {
   "cell_type": "code",
   "execution_count": null,
   "id": "kLToXQIwtURm",
   "metadata": {
    "colab": {
     "base_uri": "https://localhost:8080/"
    },
    "executionInfo": {
     "elapsed": 386,
     "status": "ok",
     "timestamp": 1680976832285,
     "user": {
      "displayName": "Artem Rakhlevskii",
      "userId": "03344283083967930388"
     },
     "user_tz": -180
    },
    "id": "kLToXQIwtURm",
    "outputId": "45c8fb4d-809a-45f5-ef16-ea049ef576e5"
   },
   "outputs": [],
   "source": [
    "from sklearn.linear_model import LinearRegression, Ridge\n",
    "from sklearn.metrics import mean_absolute_percentage_error as mape\n",
    "lr = LinearRegression()\n",
    "lr.fit(X_train, y_train)\n",
    "y_pred_lr = lr.predict(X_test)\n",
    "mape_lr = mape(y_test, y_pred_lr)\n",
    "rr = Ridge()\n",
    "rr.fit(X_train, y_train)\n",
    "y_pred_rr = rr.predict(X_test)\n",
    "mape_rr = mape(y_test ,y_pred_rr)\n",
    "print('-------------Linear Regression-------------')\n",
    "accuracy = lr.score(X_test,y_test)\n",
    "print(\"MAPE = {:.2f}\".format((mape_lr)))\n",
    "print('Accuracy = ', accuracy*100,'%')\n",
    "print('-------------Ridge Regression--------------')\n",
    "print(\"MAPE = {:.2f}\".format((mape_rr)))"
   ]
  },
  {
   "cell_type": "code",
   "execution_count": null,
   "id": "6b1e6ec6",
   "metadata": {},
   "outputs": [],
   "source": [
    "from sklearn.tree import DecisionTreeClassifier\n",
    "\n",
    "depth = 10\n",
    "\n",
    "dt = DecisionTreeClassifier(max_depth=depth, min_samples_leaf=8, max_features=4)\n",
    "dt.fit(X_train, y_train)\n",
    "\n",
    "dt_pred_train = dt.predict(X_train)\n",
    "\n",
    "\n",
    "dt_pred_test = dt.predict(X_test)\n",
    "\n",
    "\n",
    "mape_test  = mape(y_test ,dt_pred_test)\n",
    "mape_train = mape(y_train ,dt_pred_train)\n",
    "\n",
    "print('-------------ДЕРЕВО-------------')\n",
    "accuracy = dt.score(X_test,y_test)\n",
    "print(\"MAPE_test = {:.2f}\".format((mape_test)))\n",
    "print('Accuracy = ', accuracy*100,'%')\n",
    "print(\"MAPE_train = {:.2f}\".format((mape_train)))\n",
    "print('Accuracy = ', accuracy*100,'%')"
   ]
  },
  {
   "cell_type": "code",
   "execution_count": null,
   "id": "1fb20999",
   "metadata": {},
   "outputs": [],
   "source": [
    "from sklearn.model_selection import RandomizedSearchCV\n",
    "import random\n",
    "# рандомно выбираю максимум фичей и минимум количества листов, глубину\n",
    "param_dist = {'max_depth': [random.randint(100, 300)],\n",
    "              'max_features': [random.randint(1, 24)],\n",
    "              'min_samples_leaf': [random.randint(1, 24)]\n",
    "              }\n",
    "\n",
    "tree = DecisionTreeClassifier()\n",
    "\n",
    "tree_cv = RandomizedSearchCV(tree, param_dist, cv=5)\n",
    "\n",
    "tree_cv.fit(pd.DataFrame(X_train), pd.DataFrame(y_train))\n",
    "\n",
    "print(\"Tuned Decision Tree Parameters: {}\".format(tree_cv.best_params_))\n",
    "print(\"Best score is {}\".format(tree_cv.best_score_))\n",
    "\n",
    "depth=tree_cv.best_params_['max_depth']\n",
    "feature=tree_cv.best_params_['max_features']\n",
    "leaf=tree_cv.best_params_['min_samples_leaf']"
   ]
  },
  {
   "cell_type": "code",
   "execution_count": null,
   "id": "5d8e9c76",
   "metadata": {},
   "outputs": [],
   "source": [
    "dt = DecisionTreeClassifier(max_depth=depth, min_samples_leaf=feature, max_features=leaf)\n",
    "dt.fit(X_train, y_train)\n",
    "\n",
    "y_pr = dt.predict(X_test)\n",
    "y_pred_train = dt.predict(X_train)\n",
    "print(\"MAPE_test = {:.5f}\".format((mape(y_test, y_pr)*100)))\n",
    "print(\"MAPE_train = {:.5f}\".format((mape(y_train, y_pred_train)*100)))"
   ]
  },
  {
   "cell_type": "code",
   "execution_count": null,
   "id": "476002e6",
   "metadata": {},
   "outputs": [],
   "source": [
    "rf_random.best_params_"
   ]
  },
  {
   "cell_type": "code",
   "execution_count": null,
   "id": "de23b785",
   "metadata": {
    "scrolled": true
   },
   "outputs": [],
   "source": [
    "from sklearn.model_selection import RandomizedSearchCV\n",
    "# Number of trees in random forest\n",
    "n_estimators = [int(x) for x in np.linspace(start = 100, stop = 1500, num = 7)]\n",
    "# Number of features to consider at every split\n",
    "max_features = ['auto']\n",
    "# Maximum number of levels in tree\n",
    "max_depth = [235]\n",
    "\n",
    "# Minimum number of samples required to split a node\n",
    "min_samples_split = [5]\n",
    "# Minimum number of samples required at each leaf node\n",
    "min_samples_leaf = [2]\n",
    "# Method of selecting samples for training each tree\n",
    "\n",
    "# Create the random grid\n",
    "random_grid = {'n_estimators': n_estimators,\n",
    "               'max_features': max_features,\n",
    "               'max_depth': max_depth,\n",
    "               'min_samples_split': min_samples_split,\n",
    "               'min_samples_leaf': min_samples_leaf}\n",
    "print(random_grid)"
   ]
  },
  {
   "cell_type": "code",
   "execution_count": null,
   "id": "f25359fe",
   "metadata": {
    "scrolled": true
   },
   "outputs": [],
   "source": [
    "# Use the random grid to search for best hyperparameters\n",
    "# First create the base model to tune\n",
    "rf = RandomForestRegressor()\n",
    "# Random search of parameters, using 3 fold cross validation, \n",
    "# search across 100 different combinations, and use all available cores\n",
    "rf_random = RandomizedSearchCV(estimator = rf, param_distributions = random_grid, n_iter = 100, cv = 3, verbose=2, random_state=42, n_jobs = -1)\n",
    "# Fit the random search model\n",
    "rf_random.fit(X_train, y_train)"
   ]
  },
  {
   "cell_type": "code",
   "execution_count": null,
   "id": "a3d8e6fb",
   "metadata": {},
   "outputs": [],
   "source": [
    "rf_random.best_params_"
   ]
  },
  {
   "cell_type": "code",
   "execution_count": null,
   "id": "ab5128b3",
   "metadata": {},
   "outputs": [],
   "source": [
    "slll = print("
   ]
  },
  {
   "cell_type": "code",
   "execution_count": 82,
   "id": "94d7220c",
   "metadata": {},
   "outputs": [],
   "source": [
    "final = train[train['sample']=='test']\n",
    "X_f = final.drop(columns=['id', 'year_flg', 'mpg_flg', 'tax_flg', 'price', 'year', 'tax_new', 'mpg', 'engineSize', 'sample',\n",
    "                       'mileage', 'age'])\n",
    "kaggle = regressor.predict(X_f)"
   ]
  },
  {
   "cell_type": "code",
   "execution_count": 83,
   "id": "da8e01b2",
   "metadata": {},
   "outputs": [],
   "source": [
    "load = (pd.DataFrame(kaggle, columns=['price'])).rename_axis('id', axis=0)"
   ]
  },
  {
   "cell_type": "code",
   "execution_count": 84,
   "id": "be2829d3",
   "metadata": {},
   "outputs": [],
   "source": [
    "# final test data\n",
    "load.to_csv('submission5.csv', sep=',')"
   ]
  },
  {
   "cell_type": "code",
   "execution_count": null,
   "id": "909492aa",
   "metadata": {},
   "outputs": [],
   "source": []
  },
  {
   "cell_type": "code",
   "execution_count": null,
   "id": "cbb5a451",
   "metadata": {},
   "outputs": [],
   "source": []
  },
  {
   "cell_type": "code",
   "execution_count": null,
   "id": "072ba55d",
   "metadata": {},
   "outputs": [],
   "source": []
  },
  {
   "cell_type": "code",
   "execution_count": null,
   "id": "db23d2d2",
   "metadata": {},
   "outputs": [],
   "source": []
  },
  {
   "cell_type": "code",
   "execution_count": null,
   "id": "jmzTQTyr3ssz",
   "metadata": {
    "colab": {
     "base_uri": "https://localhost:8080/",
     "height": 630
    },
    "executionInfo": {
     "elapsed": 5224,
     "status": "ok",
     "timestamp": 1680976946885,
     "user": {
      "displayName": "Artem Rakhlevskii",
      "userId": "03344283083967930388"
     },
     "user_tz": -180
    },
    "id": "jmzTQTyr3ssz",
    "outputId": "31505edc-abf6-4f57-d1d8-870ec949e1b4",
    "scrolled": true
   },
   "outputs": [],
   "source": [
    "# сходмость гиперпараметра в Ridge\n",
    "\n",
    "alphas = 10**np.linspace(10,-2,100)*0.5\n",
    "\n",
    "from sklearn.preprocessing import scale \n",
    "from sklearn.linear_model import Ridge\n",
    "\n",
    "clf= Ridge()\n",
    "coefs = []\n",
    "\n",
    "for a in alphas:\n",
    "    clf.set_params(alpha=a)\n",
    "    clf.fit(scale(X_train), y_train)\n",
    "    coefs.append(clf.coef_)\n",
    "    \n",
    "ax = plt.gca()\n",
    "ax.plot(alphas*2, coefs)\n",
    "ax.set_xscale('log')\n",
    "plt.axis('tight')\n",
    "plt.xlabel('alpha')\n",
    "plt.ylabel('weights')"
   ]
  },
  {
   "cell_type": "code",
   "execution_count": null,
   "id": "0beb62ed",
   "metadata": {},
   "outputs": [],
   "source": []
  },
  {
   "cell_type": "code",
   "execution_count": null,
   "id": "qXFJNfFa4Hkv",
   "metadata": {
    "colab": {
     "base_uri": "https://localhost:8080/"
    },
    "executionInfo": {
     "elapsed": 2068,
     "status": "ok",
     "timestamp": 1680975061120,
     "user": {
      "displayName": "Artem Rakhlevskii",
      "userId": "03344283083967930388"
     },
     "user_tz": -180
    },
    "id": "qXFJNfFa4Hkv",
    "outputId": "e6c55b59-99a5-4291-f9b9-9891bb7bc29b"
   },
   "outputs": [],
   "source": [
    "# оптимальное значение через кросс-валидацию\n",
    "\n",
    "from sklearn.linear_model import Ridge, RidgeCV, Lasso, LassoCV\n",
    "\n",
    "ridgecv = RidgeCV(alphas = alphas, scoring = 'neg_mean_absolute_percentage_error')\n",
    "ridgecv.fit(X_train, y_train)\n",
    "ridgecv.alpha_"
   ]
  },
  {
   "cell_type": "code",
   "execution_count": null,
   "id": "jfEQXa_j7IA7",
   "metadata": {
    "executionInfo": {
     "elapsed": 374,
     "status": "ok",
     "timestamp": 1680975106903,
     "user": {
      "displayName": "Artem Rakhlevskii",
      "userId": "03344283083967930388"
     },
     "user_tz": -180
    },
    "id": "jfEQXa_j7IA7"
   },
   "outputs": [],
   "source": [
    "pred2 = ridgecv.predict(X_test)"
   ]
  },
  {
   "cell_type": "code",
   "execution_count": null,
   "id": "KyLiPU-H7N2i",
   "metadata": {
    "colab": {
     "base_uri": "https://localhost:8080/"
    },
    "executionInfo": {
     "elapsed": 11,
     "status": "ok",
     "timestamp": 1680975160852,
     "user": {
      "displayName": "Artem Rakhlevskii",
      "userId": "03344283083967930388"
     },
     "user_tz": -180
    },
    "id": "KyLiPU-H7N2i",
    "outputId": "354dc9e6-11b5-4bb0-e747-909510ddd412"
   },
   "outputs": [],
   "source": [
    "from sklearn import metrics\n",
    "print('Mean Absolute Precentage Error:', round(metrics.mean_absolute_percentage_error(y_test, pred2),2))"
   ]
  },
  {
   "cell_type": "code",
   "execution_count": null,
   "id": "JrYgO8YI7dY0",
   "metadata": {
    "colab": {
     "base_uri": "https://localhost:8080/",
     "height": 631
    },
    "executionInfo": {
     "elapsed": 1610,
     "status": "ok",
     "timestamp": 1680975204901,
     "user": {
      "displayName": "Artem Rakhlevskii",
      "userId": "03344283083967930388"
     },
     "user_tz": -180
    },
    "id": "JrYgO8YI7dY0",
    "outputId": "f21c5352-7f1d-4909-9b3e-eb92fc024caa"
   },
   "outputs": [],
   "source": [
    "# модель, типы топлива, типы трансмиссии \"другие\", шкода, хундай, тойота незначимо влияют на цены хммм\n",
    "coef_ridge= pd.Series(ridgecv.coef_, index = X.columns)\n",
    "imp_coef = coef_ridge.sort_values()\n",
    "import matplotlib\n",
    "matplotlib.rcParams['figure.figsize'] = (7.0, 7.0)\n",
    "imp_coef.plot(kind = \"barh\")\n",
    "plt.title(\"Feature importance using Ridge Model\")"
   ]
  },
  {
   "cell_type": "code",
   "execution_count": null,
   "id": "WVvaK9np729V",
   "metadata": {
    "colab": {
     "base_uri": "https://localhost:8080/"
    },
    "executionInfo": {
     "elapsed": 2279,
     "status": "ok",
     "timestamp": 1680975407585,
     "user": {
      "displayName": "Artem Rakhlevskii",
      "userId": "03344283083967930388"
     },
     "user_tz": -180
    },
    "id": "WVvaK9np729V",
    "outputId": "93c4ded0-f774-49d4-edfa-cd5f7a2775a5"
   },
   "outputs": [],
   "source": [
    "# Lasso\n",
    "\n",
    "from sklearn.linear_model import LassoCV\n",
    "\n",
    "reg = LassoCV(alphas = None, cv = 10, max_iter = 100000)\n",
    "reg.fit(X_train, y_train)\n",
    "print(\"Best alpha using built-in LassoCV: %f\" % reg.alpha_)\n",
    "print(\"Best score using built-in LassoCV: %f\" %reg.score(X_train,y_train))\n",
    "coef = pd.Series(reg.coef_, index = X.columns)\n",
    "print('Mean Absolute Precentage Error::', round(metrics.mean_absolute_percentage_error(y_test, reg.predict(X_test)),2))"
   ]
  },
  {
   "cell_type": "code",
   "execution_count": null,
   "id": "hbtSMg7f8XMF",
   "metadata": {
    "executionInfo": {
     "elapsed": 275,
     "status": "ok",
     "timestamp": 1680975534667,
     "user": {
      "displayName": "Artem Rakhlevskii",
      "userId": "03344283083967930388"
     },
     "user_tz": -180
    },
    "id": "hbtSMg7f8XMF"
   },
   "outputs": [],
   "source": [
    "y_pred = reg.predict(X_test)"
   ]
  },
  {
   "cell_type": "code",
   "execution_count": null,
   "id": "14k2jrGC8x6U",
   "metadata": {
    "colab": {
     "base_uri": "https://localhost:8080/"
    },
    "executionInfo": {
     "elapsed": 280,
     "status": "ok",
     "timestamp": 1680975652225,
     "user": {
      "displayName": "Artem Rakhlevskii",
      "userId": "03344283083967930388"
     },
     "user_tz": -180
    },
    "id": "14k2jrGC8x6U",
    "outputId": "11f639d6-ef20-42be-dc72-7b18bb8ca3a7"
   },
   "outputs": [],
   "source": [
    "# еще раз, контрольный\n",
    "print('Mean Absolute Precentage Error:', round(metrics.mean_absolute_percentage_error(y_test, y_pred),2))"
   ]
  },
  {
   "cell_type": "markdown",
   "id": "4EnJvAB0-P6P",
   "metadata": {
    "id": "4EnJvAB0-P6P"
   },
   "source": [
    "### XBoost"
   ]
  },
  {
   "cell_type": "code",
   "execution_count": null,
   "id": "c2OQQbd9-OcF",
   "metadata": {
    "executionInfo": {
     "elapsed": 963,
     "status": "ok",
     "timestamp": 1680975972471,
     "user": {
      "displayName": "Artem Rakhlevskii",
      "userId": "03344283083967930388"
     },
     "user_tz": -180
    },
    "id": "c2OQQbd9-OcF"
   },
   "outputs": [],
   "source": [
    "import xgboost as xgb\n",
    "from sklearn.metrics import mean_absolute_percentage_error\n",
    "from sklearn.metrics import accuracy_score\n",
    "import pandas as pd\n",
    "import numpy as np"
   ]
  },
  {
   "cell_type": "code",
   "execution_count": null,
   "id": "FJFuRF1c-Wfh",
   "metadata": {
    "colab": {
     "base_uri": "https://localhost:8080/"
    },
    "executionInfo": {
     "elapsed": 3249,
     "status": "ok",
     "timestamp": 1680976003790,
     "user": {
      "displayName": "Artem Rakhlevskii",
      "userId": "03344283083967930388"
     },
     "user_tz": -180
    },
    "id": "FJFuRF1c-Wfh",
    "outputId": "8eff08d8-8c8b-4cc9-be7d-1b8a28b9b85a"
   },
   "outputs": [],
   "source": [
    "import xgboost as xgb\n",
    "\n",
    "xg_reg = xgb.XGBRegressor(objective ='reg:linear', colsample_bytree = 0.3, learning_rate = 0.1,\n",
    "                max_depth = 5, alpha = 10, n_estimators = 10)\n",
    "xg_reg.fit(X_train,y_train)\n",
    "\n",
    "preds = xg_reg.predict(X_test)\n",
    "mape = mean_absolute_percentage_error(y_test, preds)\n",
    "print(\"MAPE: %f\" % (mape))"
   ]
  },
  {
   "cell_type": "code",
   "execution_count": null,
   "id": "W8Ep-2Cr-u7Y",
   "metadata": {
    "colab": {
     "base_uri": "https://localhost:8080/"
    },
    "executionInfo": {
     "elapsed": 20,
     "status": "ok",
     "timestamp": 1680976071168,
     "user": {
      "displayName": "Artem Rakhlevskii",
      "userId": "03344283083967930388"
     },
     "user_tz": -180
    },
    "id": "W8Ep-2Cr-u7Y",
    "outputId": "378552ae-07cc-4fe4-80bf-0071a989133b"
   },
   "outputs": [],
   "source": [
    "# fit model\n",
    "xg_reg = xgb.XGBRegressor(objective ='reg:linear', colsample_bytree = 0.3, learning_rate = 0.1,\n",
    "                max_depth = 5, alpha = 10, n_estimators = 10)\n",
    "\n",
    "xg_reg.fit(X_train,y_train)\n",
    "\n",
    "predictions = xg_reg.predict(X_test)"
   ]
  },
  {
   "cell_type": "code",
   "execution_count": null,
   "id": "pGYhj2aU-02A",
   "metadata": {
    "colab": {
     "base_uri": "https://localhost:8080/"
    },
    "executionInfo": {
     "elapsed": 297,
     "status": "ok",
     "timestamp": 1680976094887,
     "user": {
      "displayName": "Artem Rakhlevskii",
      "userId": "03344283083967930388"
     },
     "user_tz": -180
    },
    "id": "pGYhj2aU-02A",
    "outputId": "cd0377e9-1db8-40e1-8032-e11bae9662fd"
   },
   "outputs": [],
   "source": [
    "print('Mean Absolute Precentage Error:', round(metrics.mean_absolute_percentage_error(y_test, predictions),2))"
   ]
  }
 ],
 "metadata": {
  "colab": {
   "collapsed_sections": [
    "fixed-country",
    "Uc5oH82T71_8",
    "ozKXZE8B85ry",
    "jqla0cq4Cz9u",
    "evZWgkX-KIju",
    "v-HthqruG-m6",
    "clou3XFIQi41",
    "RV7eesu6fEEK",
    "3YZy6lHlpqcx"
   ],
   "provenance": []
  },
  "kernelspec": {
   "display_name": "Python 3 (ipykernel)",
   "language": "python",
   "name": "python3"
  },
  "language_info": {
   "codemirror_mode": {
    "name": "ipython",
    "version": 3
   },
   "file_extension": ".py",
   "mimetype": "text/x-python",
   "name": "python",
   "nbconvert_exporter": "python",
   "pygments_lexer": "ipython3",
   "version": "3.9.6"
  },
  "notify_time": "5",
  "toc": {
   "base_numbering": 1,
   "nav_menu": {},
   "number_sections": true,
   "sideBar": true,
   "skip_h1_title": false,
   "title_cell": "Table of Contents",
   "title_sidebar": "Contents",
   "toc_cell": true,
   "toc_position": {},
   "toc_section_display": true,
   "toc_window_display": false
  },
  "toc-autonumbering": false,
  "toc-showcode": false,
  "toc-showmarkdowntxt": false,
  "toc-showtags": false,
  "varInspector": {
   "cols": {
    "lenName": 16,
    "lenType": 16,
    "lenVar": 40
   },
   "kernels_config": {
    "python": {
     "delete_cmd_postfix": "",
     "delete_cmd_prefix": "del ",
     "library": "var_list.py",
     "varRefreshCmd": "print(var_dic_list())"
    },
    "r": {
     "delete_cmd_postfix": ") ",
     "delete_cmd_prefix": "rm(",
     "library": "var_list.r",
     "varRefreshCmd": "cat(var_dic_list()) "
    }
   },
   "types_to_exclude": [
    "module",
    "function",
    "builtin_function_or_method",
    "instance",
    "_Feature"
   ],
   "window_display": false
  }
 },
 "nbformat": 4,
 "nbformat_minor": 5
}
